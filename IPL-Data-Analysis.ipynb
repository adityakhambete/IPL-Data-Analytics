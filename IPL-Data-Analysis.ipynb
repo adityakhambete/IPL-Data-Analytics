{
  "nbformat": 4,
  "nbformat_minor": 0,
  "metadata": {
    "colab": {
      "name": "Assignment-02_Aditya.ipynb",
      "provenance": [],
      "collapsed_sections": [
        "kVRYiJzvvP62",
        "kpTwyeVeOxFn",
        "pgxE0z5PA3FL",
        "34Cmk_TSrYQJ",
        "lck9W01_pu2n",
        "dloabh5xqXK6",
        "pMSAVx9Rqtmm",
        "i_-gvAvBGuc0"
      ]
    },
    "kernelspec": {
      "name": "python3",
      "display_name": "Python 3"
    }
  },
  "cells": [
    {
      "cell_type": "markdown",
      "metadata": {
        "id": "vX0mneFv-upN"
      },
      "source": [
        "### **Note :**\n",
        "* I have used the following datasets from Kaggle : \n",
        "  * **ipl_matches.csv**\n",
        "  * **ipl_batting.csv**\n",
        "  * **ipl_deliveries.csv**"
      ]
    },
    {
      "cell_type": "code",
      "metadata": {
        "id": "Dev-u0FHHuvA"
      },
      "source": [
        "from google.colab import drive\n",
        "drive.mount('/gdrive')"
      ],
      "execution_count": null,
      "outputs": []
    },
    {
      "cell_type": "code",
      "metadata": {
        "id": "EOptC6GvHwMZ"
      },
      "source": [
        "from google.colab import drive\n",
        "drive.mount('/content/drive')"
      ],
      "execution_count": null,
      "outputs": []
    },
    {
      "cell_type": "code",
      "metadata": {
        "id": "UxtqT5-3HwBq",
        "colab": {
          "base_uri": "https://localhost:8080/",
          "height": 87
        },
        "outputId": "7dc0c473-eb7b-4083-b2da-6355a99013dc"
      },
      "source": [
        "import os\n",
        "os.listdir('/content/drive/My Drive/data')"
      ],
      "execution_count": null,
      "outputs": [
        {
          "output_type": "execute_result",
          "data": {
            "text/plain": [
              "['ipl_matches.csv',\n",
              " 'ipl_matches.gsheet',\n",
              " 'ipl_batting.csv',\n",
              " 'ipl_deliveries.csv']"
            ]
          },
          "metadata": {
            "tags": []
          },
          "execution_count": 3
        }
      ]
    },
    {
      "cell_type": "code",
      "metadata": {
        "id": "v-MbjE5OHv3P"
      },
      "source": [
        "import numpy as np\n",
        "import pandas as pd\n",
        "import matplotlib.pyplot as plt"
      ],
      "execution_count": null,
      "outputs": []
    },
    {
      "cell_type": "code",
      "metadata": {
        "id": "nNfg77sZ2PoN"
      },
      "source": [
        "matches = pd.read_csv('/content/drive/My Drive/data/ipl_matches.csv')\n",
        "batting = pd.read_csv('/content/drive/My Drive/data/ipl_batting.csv')\n",
        "deliveries = pd.read_csv('/content/drive/My Drive/data/ipl_deliveries.csv')"
      ],
      "execution_count": null,
      "outputs": []
    },
    {
      "cell_type": "markdown",
      "metadata": {
        "id": "kVRYiJzvvP62"
      },
      "source": [
        "### **Data Structuring**\n",
        "\n",
        "I have cleaned the data and made it more accessible. I have mainly formed a month, day and year column through which I can access other metrics easily.\n",
        "\n",
        "Also I am creating an Unique ID which will act as a key to the data\n",
        "The following steps have been taken to make the working process clear. \n",
        "* Read the **ipl_matches.csv** dataset\n",
        "* Display **data-type** of each column\n",
        "* Define **granularity** for the dataset **ipl_matches**\n",
        "* Create a **primary key** as a **new column** for the dataset \n",
        "  * Convert match_date into the format **YYYYMMDD**\n",
        "  * Depending upon whether the given match is the **1st** of **2nd** for the day, append a string **01 or 02** to the end\n",
        "  * **Ex.** if 2 matches took place on 18-04-2009 then the primary key of the 1st match should look like **2009041801** and second match as **2009041802**\n",
        "--------------------"
      ]
    },
    {
      "cell_type": "code",
      "metadata": {
        "id": "19IRRqQkeBDb",
        "colab": {
          "base_uri": "https://localhost:8080/",
          "height": 260
        },
        "outputId": "3ff38566-04c1-47a4-bf58-64a59c6fe8e0"
      },
      "source": [
        "# write your code here. Feel free to add multiple cells as per your need\n",
        "matches.dtypes"
      ],
      "execution_count": null,
      "outputs": [
        {
          "output_type": "execute_result",
          "data": {
            "text/plain": [
              "match_date        object\n",
              "Ground            object\n",
              "Team 1            object\n",
              "Team 2            object\n",
              "Winner            object\n",
              "year               int64\n",
              "month              int64\n",
              "day                int64\n",
              "win_mode          object\n",
              "margin           float64\n",
              "toss_winner       object\n",
              "toss_decision     object\n",
              "match_no           int64\n",
              "dtype: object"
            ]
          },
          "metadata": {
            "tags": []
          },
          "execution_count": 38
        }
      ]
    },
    {
      "cell_type": "markdown",
      "metadata": {
        "id": "qRiyjzHvL8Yo"
      },
      "source": [
        "### Granularity\n",
        "* Match Date is sliced into:\n",
        "* Year\n",
        "* Month \n",
        "* Day"
      ]
    },
    {
      "cell_type": "markdown",
      "metadata": {
        "id": "kpTwyeVeOxFn"
      },
      "source": [
        "### Primary Key"
      ]
    },
    {
      "cell_type": "code",
      "metadata": {
        "id": "UDbIIVnGKaQU"
      },
      "source": [
        "matches['tem'] = pd.to_datetime(matches['match_date'], errors='coerce')\n",
        "matches['Primary Key'] = matches['tem'].dt.strftime('%Y%m%d')"
      ],
      "execution_count": null,
      "outputs": []
    },
    {
      "cell_type": "code",
      "metadata": {
        "id": "rQCC36kFAaFZ"
      },
      "source": [
        "a = matches['Primary Key'].to_list()"
      ],
      "execution_count": null,
      "outputs": []
    },
    {
      "cell_type": "code",
      "metadata": {
        "id": "JD4ALVwNAdGE"
      },
      "source": [
        "Unique_date = []\n",
        "from collections import defaultdict\n",
        "Uid = defaultdict(int)\n",
        "for date in a:\n",
        "   Unique_date.append( str(date) + str(Uid[date]))\n",
        "   Uid[date] += 1"
      ],
      "execution_count": null,
      "outputs": []
    },
    {
      "cell_type": "markdown",
      "metadata": {
        "id": "pgxE0z5PA3FL"
      },
      "source": [
        "### Note: For simplicity of creating the primary key I have created using the following logic:\n",
        "\n",
        "Date - 2008-04-19 match 1 and 2 are defined as\n",
        "* 200804190 \n",
        "* 200804191\n"
      ]
    },
    {
      "cell_type": "code",
      "metadata": {
        "id": "Jji69uU4Af0O",
        "colab": {
          "base_uri": "https://localhost:8080/",
          "height": 341
        },
        "outputId": "005b4cc4-81a3-4981-af72-b96bf6f395c6"
      },
      "source": [
        "matches['Primary Key'] = Unique_date   \n",
        "matches.head()\n",
        "#del matches['tem']"
      ],
      "execution_count": null,
      "outputs": [
        {
          "output_type": "execute_result",
          "data": {
            "text/html": [
              "<div>\n",
              "<style scoped>\n",
              "    .dataframe tbody tr th:only-of-type {\n",
              "        vertical-align: middle;\n",
              "    }\n",
              "\n",
              "    .dataframe tbody tr th {\n",
              "        vertical-align: top;\n",
              "    }\n",
              "\n",
              "    .dataframe thead th {\n",
              "        text-align: right;\n",
              "    }\n",
              "</style>\n",
              "<table border=\"1\" class=\"dataframe\">\n",
              "  <thead>\n",
              "    <tr style=\"text-align: right;\">\n",
              "      <th></th>\n",
              "      <th>match_date</th>\n",
              "      <th>Ground</th>\n",
              "      <th>Team 1</th>\n",
              "      <th>Team 2</th>\n",
              "      <th>Winner</th>\n",
              "      <th>year</th>\n",
              "      <th>month</th>\n",
              "      <th>day</th>\n",
              "      <th>win_mode</th>\n",
              "      <th>margin</th>\n",
              "      <th>toss_winner</th>\n",
              "      <th>toss_decision</th>\n",
              "      <th>match_no</th>\n",
              "      <th>Primary Key</th>\n",
              "    </tr>\n",
              "  </thead>\n",
              "  <tbody>\n",
              "    <tr>\n",
              "      <th>0</th>\n",
              "      <td>2008-04-18</td>\n",
              "      <td>Bengaluru, Bangalore</td>\n",
              "      <td>Royal Challengers Bangalore</td>\n",
              "      <td>Kolkata Knight Riders</td>\n",
              "      <td>Kolkata Knight Riders</td>\n",
              "      <td>2008</td>\n",
              "      <td>4</td>\n",
              "      <td>18</td>\n",
              "      <td>Runs</td>\n",
              "      <td>140.0</td>\n",
              "      <td>Royal Challengers Bangalore</td>\n",
              "      <td>field first</td>\n",
              "      <td>1</td>\n",
              "      <td>200804180</td>\n",
              "    </tr>\n",
              "    <tr>\n",
              "      <th>1</th>\n",
              "      <td>2008-04-19</td>\n",
              "      <td>Mohali, Chandigarh</td>\n",
              "      <td>Kings XI Punjab</td>\n",
              "      <td>Chennai Super Kings</td>\n",
              "      <td>Chennai Super Kings</td>\n",
              "      <td>2008</td>\n",
              "      <td>4</td>\n",
              "      <td>19</td>\n",
              "      <td>Runs</td>\n",
              "      <td>33.0</td>\n",
              "      <td>Chennai Super Kings</td>\n",
              "      <td>bat first</td>\n",
              "      <td>2</td>\n",
              "      <td>200804190</td>\n",
              "    </tr>\n",
              "    <tr>\n",
              "      <th>2</th>\n",
              "      <td>2008-04-19</td>\n",
              "      <td>Delhi</td>\n",
              "      <td>Delhi Capitals</td>\n",
              "      <td>Rajasthan Royals</td>\n",
              "      <td>Delhi Capitals</td>\n",
              "      <td>2008</td>\n",
              "      <td>4</td>\n",
              "      <td>19</td>\n",
              "      <td>Wickets</td>\n",
              "      <td>9.0</td>\n",
              "      <td>Rajasthan Royals</td>\n",
              "      <td>bat first</td>\n",
              "      <td>3</td>\n",
              "      <td>200804191</td>\n",
              "    </tr>\n",
              "    <tr>\n",
              "      <th>3</th>\n",
              "      <td>2008-04-20</td>\n",
              "      <td>Kolkata</td>\n",
              "      <td>Kolkata Knight Riders</td>\n",
              "      <td>Deccan Chargers</td>\n",
              "      <td>Kolkata Knight Riders</td>\n",
              "      <td>2008</td>\n",
              "      <td>4</td>\n",
              "      <td>20</td>\n",
              "      <td>Wickets</td>\n",
              "      <td>5.0</td>\n",
              "      <td>Deccan Chargers</td>\n",
              "      <td>bat first</td>\n",
              "      <td>4</td>\n",
              "      <td>200804200</td>\n",
              "    </tr>\n",
              "    <tr>\n",
              "      <th>4</th>\n",
              "      <td>2008-04-20</td>\n",
              "      <td>Mumbai</td>\n",
              "      <td>Mumbai Indians</td>\n",
              "      <td>Royal Challengers Bangalore</td>\n",
              "      <td>Royal Challengers Bangalore</td>\n",
              "      <td>2008</td>\n",
              "      <td>4</td>\n",
              "      <td>20</td>\n",
              "      <td>Wickets</td>\n",
              "      <td>5.0</td>\n",
              "      <td>Mumbai Indians</td>\n",
              "      <td>bat first</td>\n",
              "      <td>5</td>\n",
              "      <td>200804201</td>\n",
              "    </tr>\n",
              "  </tbody>\n",
              "</table>\n",
              "</div>"
            ],
            "text/plain": [
              "   match_date                Ground  ... match_no Primary Key\n",
              "0  2008-04-18  Bengaluru, Bangalore  ...        1   200804180\n",
              "1  2008-04-19    Mohali, Chandigarh  ...        2   200804190\n",
              "2  2008-04-19                 Delhi  ...        3   200804191\n",
              "3  2008-04-20               Kolkata  ...        4   200804200\n",
              "4  2008-04-20                Mumbai  ...        5   200804201\n",
              "\n",
              "[5 rows x 14 columns]"
            ]
          },
          "metadata": {
            "tags": []
          },
          "execution_count": 44
        }
      ]
    },
    {
      "cell_type": "markdown",
      "metadata": {
        "id": "34Cmk_TSrYQJ"
      },
      "source": [
        "**It is said that you win half the match if you win the toss** <br><br>\n",
        "So, let's understand to what extent teams who **won the toss** also **won the matches**\n",
        "  * Write code to find out **% matches by team** (across all seasons) where they **won the toss**\n",
        "  * What **% of matches** which the teams **won the toss also ended up winning the matches**?\n",
        "  * Exhibit the above as a **% of total matches**\n",
        "  * Which team tops the chart? Meaning which team took full advantage of the opportunity of winning the toss\n",
        "\n",
        "**Ex :** If CSK played a total of **100** matches and won toss in **70** of them. This would mean **70%** of tosses were won by them. Now, if out of these 70 they ended up winning **28** of them then they won **40%** of the matches where they had won the toss. This is **28%** of total matches"
      ]
    },
    {
      "cell_type": "code",
      "metadata": {
        "id": "4yKEt29dzJOT",
        "colab": {
          "base_uri": "https://localhost:8080/",
          "height": 395
        },
        "outputId": "9a2f11ed-2dd6-4e75-febd-cc695f0f145e"
      },
      "source": [
        "# write your code here. Feel free to add multiple cells as per your need\n",
        "matches['toss_and_match_winner'] = np.where(matches['Winner'] == matches['toss_winner'],1,0)\n",
        "matches.head()"
      ],
      "execution_count": null,
      "outputs": [
        {
          "output_type": "execute_result",
          "data": {
            "text/html": [
              "<div>\n",
              "<style scoped>\n",
              "    .dataframe tbody tr th:only-of-type {\n",
              "        vertical-align: middle;\n",
              "    }\n",
              "\n",
              "    .dataframe tbody tr th {\n",
              "        vertical-align: top;\n",
              "    }\n",
              "\n",
              "    .dataframe thead th {\n",
              "        text-align: right;\n",
              "    }\n",
              "</style>\n",
              "<table border=\"1\" class=\"dataframe\">\n",
              "  <thead>\n",
              "    <tr style=\"text-align: right;\">\n",
              "      <th></th>\n",
              "      <th>match_date</th>\n",
              "      <th>Ground</th>\n",
              "      <th>Team 1</th>\n",
              "      <th>Team 2</th>\n",
              "      <th>Winner</th>\n",
              "      <th>year</th>\n",
              "      <th>month</th>\n",
              "      <th>day</th>\n",
              "      <th>win_mode</th>\n",
              "      <th>margin</th>\n",
              "      <th>toss_winner</th>\n",
              "      <th>toss_decision</th>\n",
              "      <th>match_no</th>\n",
              "      <th>Primary Key</th>\n",
              "      <th>toss_and_match_winner</th>\n",
              "    </tr>\n",
              "  </thead>\n",
              "  <tbody>\n",
              "    <tr>\n",
              "      <th>0</th>\n",
              "      <td>2008-04-18</td>\n",
              "      <td>Bengaluru, Bangalore</td>\n",
              "      <td>Royal Challengers Bangalore</td>\n",
              "      <td>Kolkata Knight Riders</td>\n",
              "      <td>Kolkata Knight Riders</td>\n",
              "      <td>2008</td>\n",
              "      <td>4</td>\n",
              "      <td>18</td>\n",
              "      <td>Runs</td>\n",
              "      <td>140.0</td>\n",
              "      <td>Royal Challengers Bangalore</td>\n",
              "      <td>field first</td>\n",
              "      <td>1</td>\n",
              "      <td>200804180</td>\n",
              "      <td>0</td>\n",
              "    </tr>\n",
              "    <tr>\n",
              "      <th>1</th>\n",
              "      <td>2008-04-19</td>\n",
              "      <td>Mohali, Chandigarh</td>\n",
              "      <td>Kings XI Punjab</td>\n",
              "      <td>Chennai Super Kings</td>\n",
              "      <td>Chennai Super Kings</td>\n",
              "      <td>2008</td>\n",
              "      <td>4</td>\n",
              "      <td>19</td>\n",
              "      <td>Runs</td>\n",
              "      <td>33.0</td>\n",
              "      <td>Chennai Super Kings</td>\n",
              "      <td>bat first</td>\n",
              "      <td>2</td>\n",
              "      <td>200804190</td>\n",
              "      <td>1</td>\n",
              "    </tr>\n",
              "    <tr>\n",
              "      <th>2</th>\n",
              "      <td>2008-04-19</td>\n",
              "      <td>Delhi</td>\n",
              "      <td>Delhi Capitals</td>\n",
              "      <td>Rajasthan Royals</td>\n",
              "      <td>Delhi Capitals</td>\n",
              "      <td>2008</td>\n",
              "      <td>4</td>\n",
              "      <td>19</td>\n",
              "      <td>Wickets</td>\n",
              "      <td>9.0</td>\n",
              "      <td>Rajasthan Royals</td>\n",
              "      <td>bat first</td>\n",
              "      <td>3</td>\n",
              "      <td>200804191</td>\n",
              "      <td>0</td>\n",
              "    </tr>\n",
              "    <tr>\n",
              "      <th>3</th>\n",
              "      <td>2008-04-20</td>\n",
              "      <td>Kolkata</td>\n",
              "      <td>Kolkata Knight Riders</td>\n",
              "      <td>Deccan Chargers</td>\n",
              "      <td>Kolkata Knight Riders</td>\n",
              "      <td>2008</td>\n",
              "      <td>4</td>\n",
              "      <td>20</td>\n",
              "      <td>Wickets</td>\n",
              "      <td>5.0</td>\n",
              "      <td>Deccan Chargers</td>\n",
              "      <td>bat first</td>\n",
              "      <td>4</td>\n",
              "      <td>200804200</td>\n",
              "      <td>0</td>\n",
              "    </tr>\n",
              "    <tr>\n",
              "      <th>4</th>\n",
              "      <td>2008-04-20</td>\n",
              "      <td>Mumbai</td>\n",
              "      <td>Mumbai Indians</td>\n",
              "      <td>Royal Challengers Bangalore</td>\n",
              "      <td>Royal Challengers Bangalore</td>\n",
              "      <td>2008</td>\n",
              "      <td>4</td>\n",
              "      <td>20</td>\n",
              "      <td>Wickets</td>\n",
              "      <td>5.0</td>\n",
              "      <td>Mumbai Indians</td>\n",
              "      <td>bat first</td>\n",
              "      <td>5</td>\n",
              "      <td>200804201</td>\n",
              "      <td>0</td>\n",
              "    </tr>\n",
              "  </tbody>\n",
              "</table>\n",
              "</div>"
            ],
            "text/plain": [
              "   match_date                Ground  ... Primary Key toss_and_match_winner\n",
              "0  2008-04-18  Bengaluru, Bangalore  ...   200804180                     0\n",
              "1  2008-04-19    Mohali, Chandigarh  ...   200804190                     1\n",
              "2  2008-04-19                 Delhi  ...   200804191                     0\n",
              "3  2008-04-20               Kolkata  ...   200804200                     0\n",
              "4  2008-04-20                Mumbai  ...   200804201                     0\n",
              "\n",
              "[5 rows x 15 columns]"
            ]
          },
          "metadata": {
            "tags": []
          },
          "execution_count": 45
        }
      ]
    },
    {
      "cell_type": "code",
      "metadata": {
        "id": "ixfJgXGHD6YV"
      },
      "source": [
        "played = (matches['Team 1'].value_counts() + matches['Team 2'].value_counts()).to_dict()\n",
        "wins = matches.groupby([\"Winner\"])['toss_and_match_winner'].sum()\n",
        "toss = (matches['toss_winner'].value_counts()).to_dict()"
      ],
      "execution_count": null,
      "outputs": []
    },
    {
      "cell_type": "code",
      "metadata": {
        "id": "pi45cPjHD-ti"
      },
      "source": [
        "df = pd.DataFrame([played, toss, wins])\n",
        "df = df.transpose()\n",
        "df.columns = ['Matches Played', 'Toss won', 'Matches+toss won' ]"
      ],
      "execution_count": null,
      "outputs": []
    },
    {
      "cell_type": "code",
      "metadata": {
        "id": "NCrKuTFiEBc2",
        "colab": {
          "base_uri": "https://localhost:8080/",
          "height": 631
        },
        "outputId": "9d2f2529-d7ce-447c-a4d7-97a7ef85e3f4"
      },
      "source": [
        "df['percent toss'] = (df['Toss won']/df['Matches Played'])*100 \n",
        "df['percent wins where toss won'] = (df['Matches+toss won']/df['Toss won'])*100 \n",
        "df['total percent wins'] = (df['Matches+toss won']/df['Matches Played'])*100 \n",
        "df"
      ],
      "execution_count": null,
      "outputs": [
        {
          "output_type": "execute_result",
          "data": {
            "text/html": [
              "<div>\n",
              "<style scoped>\n",
              "    .dataframe tbody tr th:only-of-type {\n",
              "        vertical-align: middle;\n",
              "    }\n",
              "\n",
              "    .dataframe tbody tr th {\n",
              "        vertical-align: top;\n",
              "    }\n",
              "\n",
              "    .dataframe thead th {\n",
              "        text-align: right;\n",
              "    }\n",
              "</style>\n",
              "<table border=\"1\" class=\"dataframe\">\n",
              "  <thead>\n",
              "    <tr style=\"text-align: right;\">\n",
              "      <th></th>\n",
              "      <th>Matches Played</th>\n",
              "      <th>Toss won</th>\n",
              "      <th>Matches+toss won</th>\n",
              "      <th>percent toss</th>\n",
              "      <th>percent wins where toss won</th>\n",
              "      <th>total percent wins</th>\n",
              "    </tr>\n",
              "  </thead>\n",
              "  <tbody>\n",
              "    <tr>\n",
              "      <th>Chennai Super Kings</th>\n",
              "      <td>166.0</td>\n",
              "      <td>89.0</td>\n",
              "      <td>57.0</td>\n",
              "      <td>53.614458</td>\n",
              "      <td>64.044944</td>\n",
              "      <td>34.337349</td>\n",
              "    </tr>\n",
              "    <tr>\n",
              "      <th>Deccan Chargers</th>\n",
              "      <td>76.0</td>\n",
              "      <td>43.0</td>\n",
              "      <td>19.0</td>\n",
              "      <td>56.578947</td>\n",
              "      <td>44.186047</td>\n",
              "      <td>25.000000</td>\n",
              "    </tr>\n",
              "    <tr>\n",
              "      <th>Delhi Capitals</th>\n",
              "      <td>178.0</td>\n",
              "      <td>90.0</td>\n",
              "      <td>41.0</td>\n",
              "      <td>50.561798</td>\n",
              "      <td>45.555556</td>\n",
              "      <td>23.033708</td>\n",
              "    </tr>\n",
              "    <tr>\n",
              "      <th>Gujarat Lions</th>\n",
              "      <td>30.0</td>\n",
              "      <td>15.0</td>\n",
              "      <td>10.0</td>\n",
              "      <td>50.000000</td>\n",
              "      <td>66.666667</td>\n",
              "      <td>33.333333</td>\n",
              "    </tr>\n",
              "    <tr>\n",
              "      <th>Kings XI Punjab</th>\n",
              "      <td>175.0</td>\n",
              "      <td>80.0</td>\n",
              "      <td>34.0</td>\n",
              "      <td>45.714286</td>\n",
              "      <td>42.500000</td>\n",
              "      <td>19.428571</td>\n",
              "    </tr>\n",
              "    <tr>\n",
              "      <th>Kochi Tuskers Kerala</th>\n",
              "      <td>14.0</td>\n",
              "      <td>8.0</td>\n",
              "      <td>4.0</td>\n",
              "      <td>57.142857</td>\n",
              "      <td>50.000000</td>\n",
              "      <td>28.571429</td>\n",
              "    </tr>\n",
              "    <tr>\n",
              "      <th>Kolkata Knight Riders</th>\n",
              "      <td>181.0</td>\n",
              "      <td>92.0</td>\n",
              "      <td>53.0</td>\n",
              "      <td>50.828729</td>\n",
              "      <td>57.608696</td>\n",
              "      <td>29.281768</td>\n",
              "    </tr>\n",
              "    <tr>\n",
              "      <th>Mumbai Indians</th>\n",
              "      <td>188.0</td>\n",
              "      <td>98.0</td>\n",
              "      <td>55.0</td>\n",
              "      <td>52.127660</td>\n",
              "      <td>56.122449</td>\n",
              "      <td>29.255319</td>\n",
              "    </tr>\n",
              "    <tr>\n",
              "      <th>Pune Warriors</th>\n",
              "      <td>46.0</td>\n",
              "      <td>20.0</td>\n",
              "      <td>3.0</td>\n",
              "      <td>43.478261</td>\n",
              "      <td>15.000000</td>\n",
              "      <td>6.521739</td>\n",
              "    </tr>\n",
              "    <tr>\n",
              "      <th>Rajasthan Royals</th>\n",
              "      <td>150.0</td>\n",
              "      <td>80.0</td>\n",
              "      <td>41.0</td>\n",
              "      <td>53.333333</td>\n",
              "      <td>51.250000</td>\n",
              "      <td>27.333333</td>\n",
              "    </tr>\n",
              "    <tr>\n",
              "      <th>Rising Pune Supergiant</th>\n",
              "      <td>30.0</td>\n",
              "      <td>6.0</td>\n",
              "      <td>5.0</td>\n",
              "      <td>20.000000</td>\n",
              "      <td>83.333333</td>\n",
              "      <td>16.666667</td>\n",
              "    </tr>\n",
              "    <tr>\n",
              "      <th>Royal Challengers Bangalore</th>\n",
              "      <td>183.0</td>\n",
              "      <td>82.0</td>\n",
              "      <td>40.0</td>\n",
              "      <td>44.808743</td>\n",
              "      <td>48.780488</td>\n",
              "      <td>21.857923</td>\n",
              "    </tr>\n",
              "    <tr>\n",
              "      <th>Sunrisers Hyderabad</th>\n",
              "      <td>109.0</td>\n",
              "      <td>46.0</td>\n",
              "      <td>23.0</td>\n",
              "      <td>42.201835</td>\n",
              "      <td>50.000000</td>\n",
              "      <td>21.100917</td>\n",
              "    </tr>\n",
              "    <tr>\n",
              "      <th>no toss</th>\n",
              "      <td>NaN</td>\n",
              "      <td>7.0</td>\n",
              "      <td>NaN</td>\n",
              "      <td>NaN</td>\n",
              "      <td>NaN</td>\n",
              "      <td>NaN</td>\n",
              "    </tr>\n",
              "    <tr>\n",
              "      <th>Rising Pune Supergiants</th>\n",
              "      <td>NaN</td>\n",
              "      <td>7.0</td>\n",
              "      <td>NaN</td>\n",
              "      <td>NaN</td>\n",
              "      <td>NaN</td>\n",
              "      <td>NaN</td>\n",
              "    </tr>\n",
              "    <tr>\n",
              "      <th>Match</th>\n",
              "      <td>NaN</td>\n",
              "      <td>NaN</td>\n",
              "      <td>0.0</td>\n",
              "      <td>NaN</td>\n",
              "      <td>NaN</td>\n",
              "      <td>NaN</td>\n",
              "    </tr>\n",
              "    <tr>\n",
              "      <th>abandoned</th>\n",
              "      <td>NaN</td>\n",
              "      <td>NaN</td>\n",
              "      <td>0.0</td>\n",
              "      <td>NaN</td>\n",
              "      <td>NaN</td>\n",
              "      <td>NaN</td>\n",
              "    </tr>\n",
              "    <tr>\n",
              "      <th>no result</th>\n",
              "      <td>NaN</td>\n",
              "      <td>NaN</td>\n",
              "      <td>0.0</td>\n",
              "      <td>NaN</td>\n",
              "      <td>NaN</td>\n",
              "      <td>NaN</td>\n",
              "    </tr>\n",
              "    <tr>\n",
              "      <th>tied</th>\n",
              "      <td>NaN</td>\n",
              "      <td>NaN</td>\n",
              "      <td>0.0</td>\n",
              "      <td>NaN</td>\n",
              "      <td>NaN</td>\n",
              "      <td>NaN</td>\n",
              "    </tr>\n",
              "  </tbody>\n",
              "</table>\n",
              "</div>"
            ],
            "text/plain": [
              "                             Matches Played  ...  total percent wins\n",
              "Chennai Super Kings                   166.0  ...           34.337349\n",
              "Deccan Chargers                        76.0  ...           25.000000\n",
              "Delhi Capitals                        178.0  ...           23.033708\n",
              "Gujarat Lions                          30.0  ...           33.333333\n",
              "Kings XI Punjab                       175.0  ...           19.428571\n",
              "Kochi Tuskers Kerala                   14.0  ...           28.571429\n",
              "Kolkata Knight Riders                 181.0  ...           29.281768\n",
              "Mumbai Indians                        188.0  ...           29.255319\n",
              "Pune Warriors                          46.0  ...            6.521739\n",
              "Rajasthan Royals                      150.0  ...           27.333333\n",
              "Rising Pune Supergiant                 30.0  ...           16.666667\n",
              "Royal Challengers Bangalore           183.0  ...           21.857923\n",
              "Sunrisers Hyderabad                   109.0  ...           21.100917\n",
              "no toss                                 NaN  ...                 NaN\n",
              "Rising Pune Supergiants                 NaN  ...                 NaN\n",
              "Match                                   NaN  ...                 NaN\n",
              "abandoned                               NaN  ...                 NaN\n",
              "no result                               NaN  ...                 NaN\n",
              "tied                                    NaN  ...                 NaN\n",
              "\n",
              "[19 rows x 6 columns]"
            ]
          },
          "metadata": {
            "tags": []
          },
          "execution_count": 48
        }
      ]
    },
    {
      "cell_type": "markdown",
      "metadata": {
        "id": "U-uV6SPUdTwJ"
      },
      "source": [
        "Thus CSK is having the highest win percantage when a toss was won standing at 64 %"
      ]
    },
    {
      "cell_type": "markdown",
      "metadata": {
        "id": "rRFujfeQo6cm"
      },
      "source": [
        "* Finding the **top 10 batsmen** by total runs accumulated across all the seasons\n",
        "  * The output is stored in a list\n",
        "\n",
        "--------------------------\n",
        "\n"
      ]
    },
    {
      "cell_type": "code",
      "metadata": {
        "id": "yCUXq1RmdzAH",
        "colab": {
          "base_uri": "https://localhost:8080/",
          "height": 225
        },
        "outputId": "1580c9ba-d716-4ee2-e7bc-bb9295096860"
      },
      "source": [
        "# write your code here. Feel free to add multiple cells as per your need\n",
        "s = (batting.groupby([\"batsmen\"])['R'].sum())\n",
        "s = s.sort_values(ascending=False)\n",
        "s.head(10)"
      ],
      "execution_count": null,
      "outputs": [
        {
          "output_type": "execute_result",
          "data": {
            "text/plain": [
              "batsmen\n",
              "V Kohli           5412\n",
              "SK Raina          5368\n",
              "RG Sharma         4898\n",
              "DA Warner         4706\n",
              "S Dhawan          4579\n",
              "CH Gayle          4484\n",
              "MS Dhoni          4432\n",
              "RV Uthappa        4411\n",
              "AB de Villiers    4395\n",
              "G Gambhir         4217\n",
              "Name: R, dtype: int64"
            ]
          },
          "metadata": {
            "tags": []
          },
          "execution_count": 49
        }
      ]
    },
    {
      "cell_type": "code",
      "metadata": {
        "id": "59gfEWH4JLKT",
        "colab": {
          "base_uri": "https://localhost:8080/",
          "height": 35
        },
        "outputId": "74dfa57e-8160-4e25-d1d3-951907de1f83"
      },
      "source": [
        "lst = s.head(10).tolist()\n",
        "lst"
      ],
      "execution_count": null,
      "outputs": [
        {
          "output_type": "execute_result",
          "data": {
            "text/plain": [
              "[5412, 5368, 4898, 4706, 4579, 4484, 4432, 4411, 4395, 4217]"
            ]
          },
          "metadata": {
            "tags": []
          },
          "execution_count": 50
        }
      ]
    },
    {
      "cell_type": "markdown",
      "metadata": {
        "id": "UaxvhQeapUie"
      },
      "source": [
        "* A visualization of the **runs made vs balls faced** can be seen in a jointplot. I have done this for all the batsmen who batted in the **IPL season 2017**\n",
        "\n",
        "--------------------"
      ]
    },
    {
      "cell_type": "code",
      "metadata": {
        "id": "zIrpZ_ds3w-D"
      },
      "source": [
        "# write your code here. Feel free to add multiple cells as per your need\n",
        "ab = [index for index, row in batting.iterrows() if row.isnull().any()]\n",
        "batting[\"match_date\"].fillna(\"28-05-2014\", inplace = True)\n",
        "batting['year'] = pd.DatetimeIndex(batting['match_date']).year\n",
        "new_df = new_df[new_df['year'] == 2017]"
      ],
      "execution_count": null,
      "outputs": []
    },
    {
      "cell_type": "code",
      "metadata": {
        "id": "hu8sVx0GiZRT"
      },
      "source": [
        "runs = new_df.groupby([\"batsmen\"])['R'].sum()\n",
        "runs = runs.tolist()\n",
        "balls = new_df.groupby([\"batsmen\"])['B'].sum()\n",
        "balls = balls.tolist()\n",
        "rb = pd.DataFrame()\n",
        "rb['runs']= runs\n",
        "rb['balls'] = balls"
      ],
      "execution_count": null,
      "outputs": []
    },
    {
      "cell_type": "code",
      "metadata": {
        "id": "0BEjhujjidyU",
        "colab": {
          "base_uri": "https://localhost:8080/",
          "height": 295
        },
        "outputId": "6fb8f2a2-ce48-4b9f-acef-f2edf97f0a0b"
      },
      "source": [
        "plt.scatter(runs, balls, c =\"blue\")\n",
        "plt.xlabel(\"Runs Scored\") \n",
        "plt.ylabel(\"Balls Faced\") \n",
        "plt.title('Runs scored vs Balls faced')\n",
        "plt.show() "
      ],
      "execution_count": null,
      "outputs": [
        {
          "output_type": "display_data",
          "data": {
            "image/png": "[encoded data removed]",
            "text/plain": [
              "<Figure size 432x288 with 1 Axes>"
            ]
          },
          "metadata": {
            "tags": [],
            "needs_background": "light"
          }
        }
      ]
    },
    {
      "cell_type": "code",
      "metadata": {
        "id": "Cxf6KhLTSnA7",
        "colab": {
          "base_uri": "https://localhost:8080/",
          "height": 441
        },
        "outputId": "98ae9b24-1247-488d-e33b-065ef2179ae8"
      },
      "source": [
        "import seaborn as sns\n",
        "#rb = sns.load_dataset(\"rb\")\n",
        "g = sns.jointplot(x=\"runs\", y=\"balls\",data = rb)"
      ],
      "execution_count": null,
      "outputs": [
        {
          "output_type": "display_data",
          "data": {
            "image/png": "[encoded data removed]",
            "text/plain": [
              "<Figure size 432x432 with 3 Axes>"
            ]
          },
          "metadata": {
            "tags": [],
            "needs_background": "light"
          }
        }
      ]
    },
    {
      "cell_type": "markdown",
      "metadata": {
        "id": "lck9W01_pu2n"
      },
      "source": [
        "### **Finding the best hitter/ striker**\n",
        "* Creating a new calculated column called **boundary_contribution**. It is calculated as : **(total runs made in 4s + 6s)/(total runs scored)**\n",
        "* Then creating a scatter-plot between **boundary_contribution** and **strike_rate** where each dot will represent an innings by a batsman\n",
        "* Aggregate **boundary_contribution** by player and then I have listed down **top 10** players by boundary_contribution across all seasons\n",
        "---------------------------------"
      ]
    },
    {
      "cell_type": "code",
      "metadata": {
        "id": "46clsyK4GnpM",
        "colab": {
          "base_uri": "https://localhost:8080/",
          "height": 280
        },
        "outputId": "18a5f347-4a99-4738-f53a-b489da1292d3"
      },
      "source": [
        "# write your code here. Feel free to add multiple cells as per your need\n",
        "batting['boundary_contribution'] = ((batting['fours'] + batting['sixes'])/batting['R'])\n",
        "a = batting.plot.scatter(x='boundary_contribution',\n",
        "                      y='SR',\n",
        "                      c='DarkBlue')\n"
      ],
      "execution_count": null,
      "outputs": [
        {
          "output_type": "display_data",
          "data": {
            "image/png": "[encoded data removed]",
            "text/plain": [
              "<Figure size 432x288 with 1 Axes>"
            ]
          },
          "metadata": {
            "tags": [],
            "needs_background": "light"
          }
        }
      ]
    },
    {
      "cell_type": "code",
      "metadata": {
        "id": "MmaNPPuJ3Bu6",
        "colab": {
          "base_uri": "https://localhost:8080/",
          "height": 225
        },
        "outputId": "df8c5d52-8188-48cf-87cb-d07b41730ade"
      },
      "source": [
        "s0 = (batting.groupby([\"batsmen\"])['boundary_contribution'].sum())\n",
        "s0 = s0.sort_values(ascending=False)\n",
        "top10BC = s0.head(10)\n",
        "top10BC"
      ],
      "execution_count": null,
      "outputs": [
        {
          "output_type": "execute_result",
          "data": {
            "text/plain": [
              "batsmen\n",
              "SK Raina      20.137846\n",
              "RV Uthappa    19.642338\n",
              "S Dhawan      19.483546\n",
              "V Kohli       18.559622\n",
              "RG Sharma     18.349718\n",
              "CH Gayle      17.690974\n",
              "G Gambhir     16.656673\n",
              "SR Watson     16.126717\n",
              "KD Karthik    16.010834\n",
              "PA Patel      15.604900\n",
              "Name: boundary_contribution, dtype: float64"
            ]
          },
          "metadata": {
            "tags": []
          },
          "execution_count": 59
        }
      ]
    },
    {
      "cell_type": "markdown",
      "metadata": {
        "id": "dloabh5xqXK6"
      },
      "source": [
        "### **Finding the batsmen with best strike rate**\n",
        "* Also I have Plotted the top 10 batsmen on a **bar chart**\n",
        "* Repeated the task for **bottom 10** batsmen\n",
        "* Creted three box plots as follows:\n",
        "  * Box plot of **strike rates** of the top 10 batsmen listed \n",
        "  * Box plot of **runs scored** of the top 10 batsmen\n",
        "  * Box plot of **boundary_contribution** of the top 10 batsmen <br>\n",
        "\n",
        "We thus find this is not a good parameter to measure the hitting ability of a player as there are lower order batsmen or bowlers who have lost their wicket just after hitting a six on the first ball\n",
        "\n",
        "\n",
        "----------------------------------"
      ]
    },
    {
      "cell_type": "code",
      "metadata": {
        "id": "kn9YyCupGpn-"
      },
      "source": [
        "# write your code here. Feel free to add multiple cells as per your need\n",
        "#batting['boundary_contribution'] = ((batting['fours'] + batting['sixes'])/batting['R'])\n",
        "s0 = (batting.groupby([\"batsmen\"])['boundary_contribution'].sum())\n",
        "top10BC = s0.head(10)\n",
        "s1 = (batting.groupby([\"batsmen\"])['R'].sum())\n",
        "top10R = s1.head(10)\n",
        "s2 = (batting.groupby([\"batsmen\"])['B'].sum())\n",
        "s3 = (s1/s2)*100\n",
        "s3 = s3.sort_values(ascending=False)\n",
        "top10SR = s3.head(10)\n",
        "bottom10SR = s3.tail(10)"
      ],
      "execution_count": null,
      "outputs": []
    },
    {
      "cell_type": "code",
      "metadata": {
        "id": "eCGSrw_uHCCU",
        "colab": {
          "base_uri": "https://localhost:8080/",
          "height": 225
        },
        "outputId": "f3442b78-1c94-4951-9234-9ac68dfe54d8"
      },
      "source": [
        "top10SR"
      ],
      "execution_count": null,
      "outputs": [
        {
          "output_type": "execute_result",
          "data": {
            "text/plain": [
              "batsmen\n",
              "B Stanlake       250.000000\n",
              "Umar Gul         205.263158\n",
              "RS Sodhi         200.000000\n",
              "AD Russell       186.418109\n",
              "LJ Wright        176.666667\n",
              "Shahid Afridi    176.086957\n",
              "I Malhotra       175.000000\n",
              "K Gowtham        173.493976\n",
              "SM Curran        172.727273\n",
              "SN Thakur        171.428571\n",
              "dtype: float64"
            ]
          },
          "metadata": {
            "tags": []
          },
          "execution_count": 61
        }
      ]
    },
    {
      "cell_type": "code",
      "metadata": {
        "id": "XbsJ5_pjG_1l",
        "colab": {
          "base_uri": "https://localhost:8080/",
          "height": 225
        },
        "outputId": "79c17218-0ae2-461a-f1ec-9027e5a84ec8"
      },
      "source": [
        "bottom10SR"
      ],
      "execution_count": null,
      "outputs": [
        {
          "output_type": "execute_result",
          "data": {
            "text/plain": [
              "batsmen\n",
              "L Ablish          0.0\n",
              "KK Ahmed          0.0\n",
              "JL Denly          0.0\n",
              "IC Pandey         0.0\n",
              "V Pratap Singh    0.0\n",
              "U Kaul            0.0\n",
              "A Nel             NaN\n",
              "BW Hilfenhaus     NaN\n",
              "C Ganapathy       NaN\n",
              "TP Sudhindra      NaN\n",
              "dtype: float64"
            ]
          },
          "metadata": {
            "tags": []
          },
          "execution_count": 65
        }
      ]
    },
    {
      "cell_type": "code",
      "metadata": {
        "id": "_v3QxX1bHEwM",
        "colab": {
          "base_uri": "https://localhost:8080/",
          "height": 333
        },
        "outputId": "d6faeb08-30ad-4697-9f14-aeaf249a9e89"
      },
      "source": [
        "bar = top10SR.plot.bar(x='batsmen',\n",
        "                      y='SR',\n",
        "                      color=['darkblue'])\n",
        "plt.show()"
      ],
      "execution_count": null,
      "outputs": [
        {
          "output_type": "display_data",
          "data": {
            "image/png": "[encoded data removed]",
            "text/plain": [
              "<Figure size 432x288 with 1 Axes>"
            ]
          },
          "metadata": {
            "tags": [],
            "needs_background": "light"
          }
        }
      ]
    },
    {
      "cell_type": "code",
      "metadata": {
        "id": "eas8_KSeT29d",
        "colab": {
          "base_uri": "https://localhost:8080/",
          "height": 283
        },
        "outputId": "89d595c5-f6b2-44f2-b120-0d8045a2557e"
      },
      "source": [
        "top10SR.plot.box()"
      ],
      "execution_count": null,
      "outputs": [
        {
          "output_type": "execute_result",
          "data": {
            "text/plain": [
              "<matplotlib.axes._subplots.AxesSubplot at 0x7fd879ec4e80>"
            ]
          },
          "metadata": {
            "tags": []
          },
          "execution_count": 67
        },
        {
          "output_type": "display_data",
          "data": {
            "image/png": "[encoded data removed]",
            "text/plain": [
              "<Figure size 432x288 with 1 Axes>"
            ]
          },
          "metadata": {
            "tags": [],
            "needs_background": "light"
          }
        }
      ]
    },
    {
      "cell_type": "code",
      "metadata": {
        "id": "IlNxcPdCT9XH",
        "colab": {
          "base_uri": "https://localhost:8080/",
          "height": 283
        },
        "outputId": "3aeacd15-f2e6-4433-f6c2-846fc4996417"
      },
      "source": [
        "top10R.plot.box()"
      ],
      "execution_count": null,
      "outputs": [
        {
          "output_type": "execute_result",
          "data": {
            "text/plain": [
              "<matplotlib.axes._subplots.AxesSubplot at 0x7fd879d6f5f8>"
            ]
          },
          "metadata": {
            "tags": []
          },
          "execution_count": 68
        },
        {
          "output_type": "display_data",
          "data": {
            "image/png": "[encoded data removed]",
            "text/plain": [
              "<Figure size 432x288 with 1 Axes>"
            ]
          },
          "metadata": {
            "tags": [],
            "needs_background": "light"
          }
        }
      ]
    },
    {
      "cell_type": "code",
      "metadata": {
        "id": "ei4D_X3wUZdm",
        "colab": {
          "base_uri": "https://localhost:8080/",
          "height": 283
        },
        "outputId": "1898eff3-f51f-4dbb-cfb0-ff77ebe8e149"
      },
      "source": [
        "top10BC.plot.box()"
      ],
      "execution_count": null,
      "outputs": [
        {
          "output_type": "execute_result",
          "data": {
            "text/plain": [
              "<matplotlib.axes._subplots.AxesSubplot at 0x7fd879d517b8>"
            ]
          },
          "metadata": {
            "tags": []
          },
          "execution_count": 69
        },
        {
          "output_type": "display_data",
          "data": {
            "image/png": "[encoded data removed]",
            "text/plain": [
              "<Figure size 432x288 with 1 Axes>"
            ]
          },
          "metadata": {
            "tags": [],
            "needs_background": "light"
          }
        }
      ]
    },
    {
      "cell_type": "markdown",
      "metadata": {
        "id": "AgZsIFLJkEad"
      },
      "source": [
        ""
      ]
    },
    {
      "cell_type": "markdown",
      "metadata": {
        "id": "pMSAVx9Rqtmm"
      },
      "source": [
        "### **Finding the dismissal status of batsmen**\n",
        "* Creating a new column called **dismissal_status**. There is a column called 'wicket_status' which can be used to extract values like **caught, lbw, bowled** etc. and store in dismissal_status column\n",
        "* Extracting the bowler name from the column **wicket_status** and storing in a new column called **bowler_name**\n",
        "* Extracing fielder name from the **wicket_status** column and storing in a new column called **fielder_name**\n",
        "* Creating a new column called **fielder_involved**. We will set it to 1 if a fielder was involved in the dismissal else 0\n",
        "* Creating a **count plot** of player dismissals across the categories calculated above. Lets find out which category stands out from the rest!\n",
        "------------------\n"
      ]
    },
    {
      "cell_type": "code",
      "metadata": {
        "id": "KNxv0Y_kGrFE"
      },
      "source": [
        "# write your code here. Feel free to add multiple cells as per your need\n",
        "import re\n",
        "r = re.compile(r'(?<=b)\\s\\w+\\b')\n",
        "r0 = re.compile(r'(?<=c)\\s\\w+\\b')\n",
        "r1 = re.compile(\"\\Ac\")\n",
        "r2 = re.compile(\"\\Ab\")\n",
        "r3 = re.compile(\"\\Arun\")\n",
        "r4 = re.compile(\"\\Anot\")\n",
        "r5 = re.compile(r'(?<=run out)\\s[(]\\w+\\b[)]')"
      ],
      "execution_count": null,
      "outputs": []
    },
    {
      "cell_type": "code",
      "metadata": {
        "id": "nKcp6Wb_KDxh"
      },
      "source": [
        "batting['dismissal_status'] = np.where(batting['wicket_status'].str.contains(r1),'caught',\n",
        "                                       (np.where(batting['wicket_status'].str.contains(r2),'bowled',\n",
        "                                                 (np.where(batting['wicket_status'].str.contains(r3),'run out',\n",
        "                                                           (np.where(batting['wicket_status'].str.contains(r4),'not out','')))))))"
      ],
      "execution_count": null,
      "outputs": []
    },
    {
      "cell_type": "code",
      "metadata": {
        "id": "MJ7bptYeXB8l"
      },
      "source": [
        "batting['bowler_name'] = np.where(batting['wicket_status'].str.contains(r),batting['wicket_status'].str.findall(r),'nan')\n",
        "batting['fielder_name'] = np.where(batting['wicket_status'].str.contains(r0),batting['wicket_status'].str.findall(r0),\n",
        "                                   (np.where(batting['wicket_status'].str.contains(r5),batting['wicket_status'].str.findall(r5),'nan')))                                   \n",
        "batting['fielder_involved'] = np.where(batting['fielder_name'] == 'nan',0,1 )"
      ],
      "execution_count": null,
      "outputs": []
    },
    {
      "cell_type": "code",
      "metadata": {
        "id": "A64YJjY_ZHL7",
        "colab": {
          "base_uri": "https://localhost:8080/",
          "height": 395
        },
        "outputId": "8f5753bc-c9b6-478a-fe92-bf33cad841fd"
      },
      "source": [
        "batting.head()"
      ],
      "execution_count": null,
      "outputs": [
        {
          "output_type": "execute_result",
          "data": {
            "text/html": [
              "<div>\n",
              "<style scoped>\n",
              "    .dataframe tbody tr th:only-of-type {\n",
              "        vertical-align: middle;\n",
              "    }\n",
              "\n",
              "    .dataframe tbody tr th {\n",
              "        vertical-align: top;\n",
              "    }\n",
              "\n",
              "    .dataframe thead th {\n",
              "        text-align: right;\n",
              "    }\n",
              "</style>\n",
              "<table border=\"1\" class=\"dataframe\">\n",
              "  <thead>\n",
              "    <tr style=\"text-align: right;\">\n",
              "      <th></th>\n",
              "      <th>match_no</th>\n",
              "      <th>team_1</th>\n",
              "      <th>team_2</th>\n",
              "      <th>batsmen</th>\n",
              "      <th>wicket_status</th>\n",
              "      <th>R</th>\n",
              "      <th>B</th>\n",
              "      <th>M</th>\n",
              "      <th>fours</th>\n",
              "      <th>sixes</th>\n",
              "      <th>SR</th>\n",
              "      <th>special_role</th>\n",
              "      <th>match_date</th>\n",
              "      <th>match_key</th>\n",
              "      <th>year</th>\n",
              "      <th>boundary_contribution</th>\n",
              "      <th>dismissal_status</th>\n",
              "      <th>bowler_name</th>\n",
              "      <th>fielder_name</th>\n",
              "      <th>fielder_involved</th>\n",
              "    </tr>\n",
              "  </thead>\n",
              "  <tbody>\n",
              "    <tr>\n",
              "      <th>0</th>\n",
              "      <td>1</td>\n",
              "      <td>Mumbai Indians</td>\n",
              "      <td>Chennai Super Kings</td>\n",
              "      <td>ST Jayasuriya</td>\n",
              "      <td>c Hayden b Thushara</td>\n",
              "      <td>26</td>\n",
              "      <td>20</td>\n",
              "      <td>0</td>\n",
              "      <td>5</td>\n",
              "      <td>0</td>\n",
              "      <td>130.00</td>\n",
              "      <td>normal player</td>\n",
              "      <td>18-04-2009</td>\n",
              "      <td>2009041801</td>\n",
              "      <td>2009</td>\n",
              "      <td>0.192308</td>\n",
              "      <td>caught</td>\n",
              "      <td>[ Thushara]</td>\n",
              "      <td>[ Hayden]</td>\n",
              "      <td>1</td>\n",
              "    </tr>\n",
              "    <tr>\n",
              "      <th>1</th>\n",
              "      <td>1</td>\n",
              "      <td>Mumbai Indians</td>\n",
              "      <td>Chennai Super Kings</td>\n",
              "      <td>SR Tendulkar</td>\n",
              "      <td>not out</td>\n",
              "      <td>59</td>\n",
              "      <td>49</td>\n",
              "      <td>0</td>\n",
              "      <td>7</td>\n",
              "      <td>0</td>\n",
              "      <td>120.40</td>\n",
              "      <td>captain</td>\n",
              "      <td>18-04-2009</td>\n",
              "      <td>2009041801</td>\n",
              "      <td>2009</td>\n",
              "      <td>0.118644</td>\n",
              "      <td>not out</td>\n",
              "      <td>nan</td>\n",
              "      <td>nan</td>\n",
              "      <td>0</td>\n",
              "    </tr>\n",
              "    <tr>\n",
              "      <th>2</th>\n",
              "      <td>1</td>\n",
              "      <td>Mumbai Indians</td>\n",
              "      <td>Chennai Super Kings</td>\n",
              "      <td>S Dhawan</td>\n",
              "      <td>c Dhoni b Gony</td>\n",
              "      <td>22</td>\n",
              "      <td>21</td>\n",
              "      <td>0</td>\n",
              "      <td>2</td>\n",
              "      <td>0</td>\n",
              "      <td>104.76</td>\n",
              "      <td>normal player</td>\n",
              "      <td>18-04-2009</td>\n",
              "      <td>2009041801</td>\n",
              "      <td>2009</td>\n",
              "      <td>0.090909</td>\n",
              "      <td>caught</td>\n",
              "      <td>[ Gony]</td>\n",
              "      <td>[ Dhoni]</td>\n",
              "      <td>1</td>\n",
              "    </tr>\n",
              "    <tr>\n",
              "      <th>3</th>\n",
              "      <td>1</td>\n",
              "      <td>Mumbai Indians</td>\n",
              "      <td>Chennai Super Kings</td>\n",
              "      <td>JP Duminy</td>\n",
              "      <td>c &amp; b Gony</td>\n",
              "      <td>9</td>\n",
              "      <td>7</td>\n",
              "      <td>0</td>\n",
              "      <td>1</td>\n",
              "      <td>0</td>\n",
              "      <td>128.57</td>\n",
              "      <td>normal player</td>\n",
              "      <td>18-04-2009</td>\n",
              "      <td>2009041801</td>\n",
              "      <td>2009</td>\n",
              "      <td>0.111111</td>\n",
              "      <td>caught</td>\n",
              "      <td>[ Gony]</td>\n",
              "      <td>nan</td>\n",
              "      <td>0</td>\n",
              "    </tr>\n",
              "    <tr>\n",
              "      <th>4</th>\n",
              "      <td>1</td>\n",
              "      <td>Mumbai Indians</td>\n",
              "      <td>Chennai Super Kings</td>\n",
              "      <td>DJ Bravo</td>\n",
              "      <td>c Hayden b Joginder Sharma</td>\n",
              "      <td>5</td>\n",
              "      <td>4</td>\n",
              "      <td>0</td>\n",
              "      <td>1</td>\n",
              "      <td>0</td>\n",
              "      <td>125.00</td>\n",
              "      <td>normal player</td>\n",
              "      <td>18-04-2009</td>\n",
              "      <td>2009041801</td>\n",
              "      <td>2009</td>\n",
              "      <td>0.200000</td>\n",
              "      <td>caught</td>\n",
              "      <td>[ Joginder]</td>\n",
              "      <td>[ Hayden]</td>\n",
              "      <td>1</td>\n",
              "    </tr>\n",
              "  </tbody>\n",
              "</table>\n",
              "</div>"
            ],
            "text/plain": [
              "  match_no          team_1  ... fielder_name fielder_involved\n",
              "0        1  Mumbai Indians  ...    [ Hayden]                1\n",
              "1        1  Mumbai Indians  ...          nan                0\n",
              "2        1  Mumbai Indians  ...     [ Dhoni]                1\n",
              "3        1  Mumbai Indians  ...          nan                0\n",
              "4        1  Mumbai Indians  ...    [ Hayden]                1\n",
              "\n",
              "[5 rows x 20 columns]"
            ]
          },
          "metadata": {
            "tags": []
          },
          "execution_count": 74
        }
      ]
    },
    {
      "cell_type": "code",
      "metadata": {
        "id": "gs0McseY9NWj"
      },
      "source": [
        "batting['is_out'] = np.where(batting['dismissal_status'] == 'not out',1,0 )"
      ],
      "execution_count": null,
      "outputs": []
    },
    {
      "cell_type": "code",
      "metadata": {
        "id": "bR3ppBRbZNIc",
        "colab": {
          "base_uri": "https://localhost:8080/",
          "height": 309
        },
        "outputId": "e940434d-aa7a-4ca1-820b-80887aaaf168"
      },
      "source": [
        "count_list = batting['dismissal_status'].value_counts()\n",
        "count_list.plot.bar()"
      ],
      "execution_count": null,
      "outputs": [
        {
          "output_type": "execute_result",
          "data": {
            "text/plain": [
              "<matplotlib.axes._subplots.AxesSubplot at 0x7fd879e476a0>"
            ]
          },
          "metadata": {
            "tags": []
          },
          "execution_count": 76
        },
        {
          "output_type": "display_data",
          "data": {
            "image/png": "[encoded data removed]",
            "text/plain": [
              "<Figure size 432x288 with 1 Axes>"
            ]
          },
          "metadata": {
            "tags": [],
            "needs_background": "light"
          }
        }
      ]
    },
    {
      "cell_type": "markdown",
      "metadata": {
        "id": "SUhhjhqsiaWJ"
      },
      "source": [
        "##### As we see, most batsmen have been caught out. This is due to the fact that Twenty20 is a fast paced game and thus in order to take risks, the batsmen might be playing some poor shots which might result into getting caught "
      ]
    },
    {
      "cell_type": "markdown",
      "metadata": {
        "id": "i_-gvAvBGuc0"
      },
      "source": [
        "\n",
        "* Now let's create a dataframe at a player level. We will calculate below mentioned metrics :\n",
        "  * #50s\n",
        "  * #100s\n",
        "  * #4s\n",
        "  * #6s\n",
        "  * Average\n",
        "* Also, assign below points to the players based on the above metrics and calculate the total points earned : \n",
        "  * 1 half century = **5 points**\n",
        "  * 1 century = **10 points**\n",
        "  * 1 four = **2 point**\n",
        "  * 1 six = **4 points**\n",
        "  * Average > 30 = **20 points**\n",
        "  * Average < 30 = **10 points**\n",
        "\n",
        "* Rank the players based on total points earned. Now list down the top 10 batsmen overall across all IPL seasons\n",
        "\n",
        "* We will find the most valuable players (batsmen) of this tournament \n",
        "------------------\n"
      ]
    },
    {
      "cell_type": "code",
      "metadata": {
        "id": "QoMd7Y0MH8wr"
      },
      "source": [
        "# write your code here. Feel free to add multiple cells as per your need\n",
        "d2 = pd.DataFrame()\n",
        "d2['runs'] = batting['R']\n",
        "d2 ['batsmen'] = batting['batsmen']\n",
        "d2['is_out'] = batting['is_out']\n",
        "d2['50s'] = np.where(batting['R'] >= 50 , 1,0 )\n",
        "d2['100s'] = np.where(batting['R'] >= 100 , 1,0 )\n",
        "d2['4s'] =  batting['fours']\n",
        "d2['6s'] = batting['sixes']"
      ],
      "execution_count": null,
      "outputs": []
    },
    {
      "cell_type": "code",
      "metadata": {
        "id": "SqBfVqvy8zl1"
      },
      "source": [
        "count_runs = d2.groupby([\"batsmen\"])['runs'].sum()\n",
        "a = count_runs.sort_values(ascending=False)\n",
        "count_fifty = d2.groupby([\"batsmen\"])['50s'].sum()\n",
        "b = count_fifty.sort_values(ascending=False)\n",
        "count_hundred = d2.groupby([\"batsmen\"])['100s'].sum()\n",
        "c = count_hundred.sort_values(ascending=False)\n",
        "count_fours = d2.groupby([\"batsmen\"])['4s'].sum()\n",
        "d = count_fours.sort_values(ascending=False)\n",
        "count_sixes = d2.groupby([\"batsmen\"])['6s'].sum()\n",
        "e = count_sixes.sort_values(ascending=False)\n",
        "count_dismissed = d2.groupby([\"batsmen\"])['is_out'].sum()\n",
        "f = count_dismissed.sort_values(ascending=False)"
      ],
      "execution_count": null,
      "outputs": []
    },
    {
      "cell_type": "code",
      "metadata": {
        "id": "bwczfczj830l"
      },
      "source": [
        "d3 = pd.DataFrame({'count_runs': a, 'count_fifty': b, 'count_hundred': c,'count_fours': d, 'count_sixes': e, 'count_dismissed': f})\n",
        "d3['avg'] = d3['count_runs']/d3['count_dismissed']\n",
        "d3.loc[~np.isfinite(d3['avg']), 'avg'] = d3['count_runs']\n",
        "d3['pt'] = np.where(d3['avg'] >=30, 20, 10)\n",
        "d3['points'] = ((d3['count_fifty']*5) + (d3['count_hundred']*10) + (d3['count_fours']*2) + (d3['count_sixes']*4) + (d3['pt']))"
      ],
      "execution_count": null,
      "outputs": []
    },
    {
      "cell_type": "code",
      "metadata": {
        "id": "yI7FYC4F86wT",
        "colab": {
          "base_uri": "https://localhost:8080/",
          "height": 355
        },
        "outputId": "70d4a6da-53be-4ad3-e9fa-420189c43443"
      },
      "source": [
        "(d3.sort_values('points', ascending= False)).head(10)"
      ],
      "execution_count": null,
      "outputs": [
        {
          "output_type": "execute_result",
          "data": {
            "text/html": [
              "<div>\n",
              "<style scoped>\n",
              "    .dataframe tbody tr th:only-of-type {\n",
              "        vertical-align: middle;\n",
              "    }\n",
              "\n",
              "    .dataframe tbody tr th {\n",
              "        vertical-align: top;\n",
              "    }\n",
              "\n",
              "    .dataframe thead th {\n",
              "        text-align: right;\n",
              "    }\n",
              "</style>\n",
              "<table border=\"1\" class=\"dataframe\">\n",
              "  <thead>\n",
              "    <tr style=\"text-align: right;\">\n",
              "      <th></th>\n",
              "      <th>count_runs</th>\n",
              "      <th>count_fifty</th>\n",
              "      <th>count_hundred</th>\n",
              "      <th>count_fours</th>\n",
              "      <th>count_sixes</th>\n",
              "      <th>count_dismissed</th>\n",
              "      <th>avg</th>\n",
              "      <th>pt</th>\n",
              "      <th>points</th>\n",
              "    </tr>\n",
              "  </thead>\n",
              "  <tbody>\n",
              "    <tr>\n",
              "      <th>CH Gayle</th>\n",
              "      <td>4484</td>\n",
              "      <td>34</td>\n",
              "      <td>6</td>\n",
              "      <td>368</td>\n",
              "      <td>326</td>\n",
              "      <td>15</td>\n",
              "      <td>298.933333</td>\n",
              "      <td>20</td>\n",
              "      <td>2290</td>\n",
              "    </tr>\n",
              "    <tr>\n",
              "      <th>V Kohli</th>\n",
              "      <td>5412</td>\n",
              "      <td>41</td>\n",
              "      <td>5</td>\n",
              "      <td>480</td>\n",
              "      <td>190</td>\n",
              "      <td>26</td>\n",
              "      <td>208.153846</td>\n",
              "      <td>20</td>\n",
              "      <td>1995</td>\n",
              "    </tr>\n",
              "    <tr>\n",
              "      <th>SK Raina</th>\n",
              "      <td>5368</td>\n",
              "      <td>39</td>\n",
              "      <td>1</td>\n",
              "      <td>493</td>\n",
              "      <td>194</td>\n",
              "      <td>28</td>\n",
              "      <td>191.714286</td>\n",
              "      <td>20</td>\n",
              "      <td>1987</td>\n",
              "    </tr>\n",
              "    <tr>\n",
              "      <th>DA Warner</th>\n",
              "      <td>4706</td>\n",
              "      <td>48</td>\n",
              "      <td>4</td>\n",
              "      <td>458</td>\n",
              "      <td>181</td>\n",
              "      <td>17</td>\n",
              "      <td>276.823529</td>\n",
              "      <td>20</td>\n",
              "      <td>1940</td>\n",
              "    </tr>\n",
              "    <tr>\n",
              "      <th>RG Sharma</th>\n",
              "      <td>4898</td>\n",
              "      <td>37</td>\n",
              "      <td>1</td>\n",
              "      <td>431</td>\n",
              "      <td>194</td>\n",
              "      <td>28</td>\n",
              "      <td>174.928571</td>\n",
              "      <td>20</td>\n",
              "      <td>1853</td>\n",
              "    </tr>\n",
              "    <tr>\n",
              "      <th>AB de Villiers</th>\n",
              "      <td>4395</td>\n",
              "      <td>36</td>\n",
              "      <td>3</td>\n",
              "      <td>357</td>\n",
              "      <td>212</td>\n",
              "      <td>32</td>\n",
              "      <td>137.343750</td>\n",
              "      <td>20</td>\n",
              "      <td>1792</td>\n",
              "    </tr>\n",
              "    <tr>\n",
              "      <th>S Dhawan</th>\n",
              "      <td>4579</td>\n",
              "      <td>37</td>\n",
              "      <td>0</td>\n",
              "      <td>524</td>\n",
              "      <td>96</td>\n",
              "      <td>20</td>\n",
              "      <td>228.950000</td>\n",
              "      <td>20</td>\n",
              "      <td>1637</td>\n",
              "    </tr>\n",
              "    <tr>\n",
              "      <th>RV Uthappa</th>\n",
              "      <td>4411</td>\n",
              "      <td>24</td>\n",
              "      <td>0</td>\n",
              "      <td>435</td>\n",
              "      <td>156</td>\n",
              "      <td>17</td>\n",
              "      <td>259.470588</td>\n",
              "      <td>20</td>\n",
              "      <td>1634</td>\n",
              "    </tr>\n",
              "    <tr>\n",
              "      <th>SR Watson</th>\n",
              "      <td>3575</td>\n",
              "      <td>23</td>\n",
              "      <td>4</td>\n",
              "      <td>343</td>\n",
              "      <td>177</td>\n",
              "      <td>15</td>\n",
              "      <td>238.333333</td>\n",
              "      <td>20</td>\n",
              "      <td>1569</td>\n",
              "    </tr>\n",
              "    <tr>\n",
              "      <th>MS Dhoni</th>\n",
              "      <td>4432</td>\n",
              "      <td>23</td>\n",
              "      <td>0</td>\n",
              "      <td>297</td>\n",
              "      <td>209</td>\n",
              "      <td>65</td>\n",
              "      <td>68.184615</td>\n",
              "      <td>20</td>\n",
              "      <td>1565</td>\n",
              "    </tr>\n",
              "  </tbody>\n",
              "</table>\n",
              "</div>"
            ],
            "text/plain": [
              "                count_runs  count_fifty  count_hundred  ...         avg  pt  points\n",
              "CH Gayle              4484           34              6  ...  298.933333  20    2290\n",
              "V Kohli               5412           41              5  ...  208.153846  20    1995\n",
              "SK Raina              5368           39              1  ...  191.714286  20    1987\n",
              "DA Warner             4706           48              4  ...  276.823529  20    1940\n",
              "RG Sharma             4898           37              1  ...  174.928571  20    1853\n",
              "AB de Villiers        4395           36              3  ...  137.343750  20    1792\n",
              "S Dhawan              4579           37              0  ...  228.950000  20    1637\n",
              "RV Uthappa            4411           24              0  ...  259.470588  20    1634\n",
              "SR Watson             3575           23              4  ...  238.333333  20    1569\n",
              "MS Dhoni              4432           23              0  ...   68.184615  20    1565\n",
              "\n",
              "[10 rows x 9 columns]"
            ]
          },
          "metadata": {
            "tags": []
          },
          "execution_count": 80
        }
      ]
    },
    {
      "cell_type": "markdown",
      "metadata": {
        "id": "LUK7U_9EjJBz"
      },
      "source": [
        "Please note that this data does not take into account whether the player is playing or has retired.\r\n",
        "Thus, the above list reflects some of the most consistent and best players since the inception of IPL"
      ]
    },
    {
      "cell_type": "markdown",
      "metadata": {
        "id": "x8hPQwhAKV1I"
      },
      "source": [
        "### **Highest score of a Captain in IPL**\n",
        "* Look for a column called **Special_role** to denote if a player is captain or not. \n",
        "* **Filter** the dataframe based on if a player is a captain.\n",
        "* Pick all the innings by the captains (For **IPL 2019**) \n",
        "------------------\n"
      ]
    },
    {
      "cell_type": "code",
      "metadata": {
        "id": "o1sfLg9CII0g"
      },
      "source": [
        "# write your code here. Feel free to add multiple cells as per your need\n",
        "deliveries['match_key'] = deliveries['Match_id']\n",
        "m = deliveries.groupby(['match_key','Innings'])\n",
        "q = m['Runs_total'].sum()\n",
        "d5 = (batting.loc[batting['special_role'] == 'captain'])\n",
        "df1 = pd.DataFrame(q)\n",
        "m1 = d5.groupby(['match_key','R'])\n",
        "q1 = m1['R'].sum()\n",
        "df2 = pd.DataFrame(q1)"
      ],
      "execution_count": null,
      "outputs": []
    },
    {
      "cell_type": "code",
      "metadata": {
        "id": "RqVp55-xc-LB",
        "colab": {
          "base_uri": "https://localhost:8080/",
          "height": 386
        },
        "outputId": "c3a3c62b-8d29-48b3-839b-01ddb4ea591f"
      },
      "source": [
        "df3 = df2.merge(df1, on='match_key')\n",
        "df3['percent contribution'] = (df3['R']/df3['Runs_total'])*100 \n",
        "df3.sort_values('percent contribution', ascending= False).head(10)"
      ],
      "execution_count": null,
      "outputs": [
        {
          "output_type": "execute_result",
          "data": {
            "text/html": [
              "<div>\n",
              "<style scoped>\n",
              "    .dataframe tbody tr th:only-of-type {\n",
              "        vertical-align: middle;\n",
              "    }\n",
              "\n",
              "    .dataframe tbody tr th {\n",
              "        vertical-align: top;\n",
              "    }\n",
              "\n",
              "    .dataframe thead th {\n",
              "        text-align: right;\n",
              "    }\n",
              "</style>\n",
              "<table border=\"1\" class=\"dataframe\">\n",
              "  <thead>\n",
              "    <tr style=\"text-align: right;\">\n",
              "      <th></th>\n",
              "      <th>R</th>\n",
              "      <th>Runs_total</th>\n",
              "      <th>percent contribution</th>\n",
              "    </tr>\n",
              "    <tr>\n",
              "      <th>match_key</th>\n",
              "      <th></th>\n",
              "      <th></th>\n",
              "      <th></th>\n",
              "    </tr>\n",
              "  </thead>\n",
              "  <tbody>\n",
              "    <tr>\n",
              "      <th>2015051701</th>\n",
              "      <td>67</td>\n",
              "      <td>2</td>\n",
              "      <td>3350.000000</td>\n",
              "    </tr>\n",
              "    <tr>\n",
              "      <th>2017043002</th>\n",
              "      <td>126</td>\n",
              "      <td>67</td>\n",
              "      <td>188.059701</td>\n",
              "    </tr>\n",
              "    <tr>\n",
              "      <th>2017043002</th>\n",
              "      <td>126</td>\n",
              "      <td>68</td>\n",
              "      <td>185.294118</td>\n",
              "    </tr>\n",
              "    <tr>\n",
              "      <th>2016051401</th>\n",
              "      <td>109</td>\n",
              "      <td>104</td>\n",
              "      <td>104.807692</td>\n",
              "    </tr>\n",
              "    <tr>\n",
              "      <th>2016051801</th>\n",
              "      <td>113</td>\n",
              "      <td>120</td>\n",
              "      <td>94.166667</td>\n",
              "    </tr>\n",
              "    <tr>\n",
              "      <th>2011050502</th>\n",
              "      <td>119</td>\n",
              "      <td>139</td>\n",
              "      <td>85.611511</td>\n",
              "    </tr>\n",
              "    <tr>\n",
              "      <th>2011041701</th>\n",
              "      <td>66</td>\n",
              "      <td>81</td>\n",
              "      <td>81.481481</td>\n",
              "    </tr>\n",
              "    <tr>\n",
              "      <th>2010041102</th>\n",
              "      <td>89</td>\n",
              "      <td>111</td>\n",
              "      <td>80.180180</td>\n",
              "    </tr>\n",
              "    <tr>\n",
              "      <th>2010041102</th>\n",
              "      <td>89</td>\n",
              "      <td>112</td>\n",
              "      <td>79.464286</td>\n",
              "    </tr>\n",
              "    <tr>\n",
              "      <th>2011041701</th>\n",
              "      <td>66</td>\n",
              "      <td>85</td>\n",
              "      <td>77.647059</td>\n",
              "    </tr>\n",
              "  </tbody>\n",
              "</table>\n",
              "</div>"
            ],
            "text/plain": [
              "              R  Runs_total  percent contribution\n",
              "match_key                                        \n",
              "2015051701   67           2           3350.000000\n",
              "2017043002  126          67            188.059701\n",
              "2017043002  126          68            185.294118\n",
              "2016051401  109         104            104.807692\n",
              "2016051801  113         120             94.166667\n",
              "2011050502  119         139             85.611511\n",
              "2011041701   66          81             81.481481\n",
              "2010041102   89         111             80.180180\n",
              "2010041102   89         112             79.464286\n",
              "2011041701   66          85             77.647059"
            ]
          },
          "metadata": {
            "tags": []
          },
          "execution_count": 82
        }
      ]
    },
    {
      "cell_type": "markdown",
      "metadata": {
        "id": "cW8mRjJbhFar"
      },
      "source": [
        "### **Let's find out the following**\n",
        "* Is IPL more in favor of batsmen?\n",
        "* Let's consider two metrics **total_runs** made in a match and the **run_rate** of the match\n",
        "* Creating a **histogram** of **total_runs** by match. We can say that total runs has a slight tail on the left. Thus it is slightly Left Skewed.\n",
        "* **Repeating** the above step for **run_rate** per match too\n",
        "We find the following\n",
        "------------------"
      ]
    },
    {
      "cell_type": "code",
      "metadata": {
        "id": "VPoX0jX4ei0i"
      },
      "source": [
        "# write your code here. Feel free to add multiple cells as per your need\n",
        "a1 = deliveries.groupby(['match_key','Innings'])\n",
        "total = a1['Runs_total'].sum()\n",
        "run_rate = (total/120)*6"
      ],
      "execution_count": null,
      "outputs": []
    },
    {
      "cell_type": "code",
      "metadata": {
        "id": "Rg4DrZKbrFtd",
        "colab": {
          "base_uri": "https://localhost:8080/",
          "height": 243
        },
        "outputId": "9301d37d-90ff-4c0d-8b9a-d1ef43323338"
      },
      "source": [
        "total"
      ],
      "execution_count": null,
      "outputs": [
        {
          "output_type": "execute_result",
          "data": {
            "text/plain": [
              "match_key   Innings\n",
              "2008041801  1          222\n",
              "            2           82\n",
              "2008041901  1          240\n",
              "            2          207\n",
              "2008041902  1          129\n",
              "                      ... \n",
              "2017051701  2           48\n",
              "2017051901  1          107\n",
              "            2          111\n",
              "2017052101  1          129\n",
              "            2          128\n",
              "Name: Runs_total, Length: 1268, dtype: int64"
            ]
          },
          "metadata": {
            "tags": []
          },
          "execution_count": 10
        }
      ]
    },
    {
      "cell_type": "code",
      "metadata": {
        "id": "u78iy7FqrG-_",
        "colab": {
          "base_uri": "https://localhost:8080/",
          "height": 243
        },
        "outputId": "dc70953d-d470-4387-ab4a-901033cc9ea0"
      },
      "source": [
        "run_rate"
      ],
      "execution_count": null,
      "outputs": [
        {
          "output_type": "execute_result",
          "data": {
            "text/plain": [
              "match_key   Innings\n",
              "2008041801  1          11.10\n",
              "            2           4.10\n",
              "2008041901  1          12.00\n",
              "            2          10.35\n",
              "2008041902  1           6.45\n",
              "                       ...  \n",
              "2017051701  2           2.40\n",
              "2017051901  1           5.35\n",
              "            2           5.55\n",
              "2017052101  1           6.45\n",
              "            2           6.40\n",
              "Name: Runs_total, Length: 1268, dtype: float64"
            ]
          },
          "metadata": {
            "tags": []
          },
          "execution_count": 11
        }
      ]
    },
    {
      "cell_type": "code",
      "metadata": {
        "id": "TIGautdmrAte",
        "colab": {
          "base_uri": "https://localhost:8080/",
          "height": 283
        },
        "outputId": "c67d0580-ebb3-4c86-cb8f-ace47fff4fdf"
      },
      "source": [
        "total.plot.hist(bins=25)"
      ],
      "execution_count": null,
      "outputs": [
        {
          "output_type": "execute_result",
          "data": {
            "text/plain": [
              "<matplotlib.axes._subplots.AxesSubplot at 0x7fe534546ef0>"
            ]
          },
          "metadata": {
            "tags": []
          },
          "execution_count": 14
        },
        {
          "output_type": "display_data",
          "data": {
            "image/png": "[encoded data removed]",
            "text/plain": [
              "<Figure size 432x288 with 1 Axes>"
            ]
          },
          "metadata": {
            "tags": [],
            "needs_background": "light"
          }
        }
      ]
    },
    {
      "cell_type": "code",
      "metadata": {
        "id": "JE6HIcrIrFJV",
        "colab": {
          "base_uri": "https://localhost:8080/",
          "height": 283
        },
        "outputId": "3f63f275-43da-404b-811e-fdd283cca267"
      },
      "source": [
        "run_rate.plot.hist(bins =20)"
      ],
      "execution_count": null,
      "outputs": [
        {
          "output_type": "execute_result",
          "data": {
            "text/plain": [
              "<matplotlib.axes._subplots.AxesSubplot at 0x7fe5344cec50>"
            ]
          },
          "metadata": {
            "tags": []
          },
          "execution_count": 15
        },
        {
          "output_type": "display_data",
          "data": {
            "image/png": "[encoded data removed]",
            "text/plain": [
              "<Figure size 432x288 with 1 Axes>"
            ]
          },
          "metadata": {
            "tags": [],
            "needs_background": "light"
          }
        }
      ]
    },
    {
      "cell_type": "markdown",
      "metadata": {
        "id": "POJ3QDNrYBzq"
      },
      "source": [
        "### Creating a DatFrame for CSK in IPL 2014"
      ]
    },
    {
      "cell_type": "code",
      "metadata": {
        "id": "UcBQqO_uelj5",
        "colab": {
          "base_uri": "https://localhost:8080/",
          "height": 225
        },
        "outputId": "7b303dd2-83e4-4cee-fe12-7a07f5532724"
      },
      "source": [
        "# write your code here. Feel free to add multiple cells as per your need\n",
        "new_df = pd.DataFrame()\n",
        "new_df = deliveries[deliveries['Team'] == 'Chennai Super Kings']\n",
        "new_df['year'] = new_df.Match_id.astype(str).str[:4].astype(int)\n",
        "new_df['year'] = new_df[new_df['year'] == 2014]"
      ],
      "execution_count": null,
      "outputs": [
        {
          "output_type": "stream",
          "text": [
            "/usr/local/lib/python3.6/dist-packages/ipykernel_launcher.py:4: SettingWithCopyWarning: \n",
            "A value is trying to be set on a copy of a slice from a DataFrame.\n",
            "Try using .loc[row_indexer,col_indexer] = value instead\n",
            "\n",
            "See the caveats in the documentation: https://pandas.pydata.org/pandas-docs/stable/user_guide/indexing.html#returning-a-view-versus-a-copy\n",
            "  after removing the cwd from sys.path.\n",
            "/usr/local/lib/python3.6/dist-packages/ipykernel_launcher.py:5: SettingWithCopyWarning: \n",
            "A value is trying to be set on a copy of a slice from a DataFrame.\n",
            "Try using .loc[row_indexer,col_indexer] = value instead\n",
            "\n",
            "See the caveats in the documentation: https://pandas.pydata.org/pandas-docs/stable/user_guide/indexing.html#returning-a-view-versus-a-copy\n",
            "  \"\"\"\n"
          ],
          "name": "stderr"
        }
      ]
    },
    {
      "cell_type": "code",
      "metadata": {
        "id": "OAiRwfsucmDL"
      },
      "source": [
        "new_df = new_df[new_df['year'].notna()]\n",
        "new_df['year'] = new_df['year'].astype(int)\n",
        "new_df['year'] = new_df.Match_id.astype(str).str[:4].astype(int)"
      ],
      "execution_count": null,
      "outputs": []
    },
    {
      "cell_type": "code",
      "metadata": {
        "id": "KoEY5KczcpvB",
        "colab": {
          "base_uri": "https://localhost:8080/",
          "height": 329
        },
        "outputId": "480d5ffc-52a8-4398-f914-fafb24c69e89"
      },
      "source": [
        "a2 = new_df.groupby(['match_key','Innings'])\n",
        "total_csk = a2['Runs_total'].sum()\n",
        "total_csk"
      ],
      "execution_count": null,
      "outputs": [
        {
          "output_type": "execute_result",
          "data": {
            "text/plain": [
              "match_key   Innings\n",
              "2014041802  1          205\n",
              "2014042101  1          177\n",
              "2014042301  1          140\n",
              "2014042502  2          142\n",
              "2014042701  2          146\n",
              "2014050201  1          148\n",
              "2014050502  2          181\n",
              "2014050701  2          187\n",
              "2014051001  2          160\n",
              "2014051302  2          149\n",
              "2014051801  1          138\n",
              "2014052002  1          154\n",
              "2014052201  1          185\n",
              "2014052402  2          160\n",
              "2014052801  2          176\n",
              "2014053001  2          202\n",
              "Name: Runs_total, dtype: int64"
            ]
          },
          "metadata": {
            "tags": []
          },
          "execution_count": 39
        }
      ]
    },
    {
      "cell_type": "code",
      "metadata": {
        "id": "AUYolsGBcph2",
        "colab": {
          "base_uri": "https://localhost:8080/",
          "height": 329
        },
        "outputId": "cc3f12c1-6c6d-4c36-b56c-da2cedf28e41"
      },
      "source": [
        "run_rate_csk = (total_csk/120)*6\n",
        "run_rate_csk"
      ],
      "execution_count": null,
      "outputs": [
        {
          "output_type": "execute_result",
          "data": {
            "text/plain": [
              "match_key   Innings\n",
              "2014041802  1          10.25\n",
              "2014042101  1           8.85\n",
              "2014042301  1           7.00\n",
              "2014042502  2           7.10\n",
              "2014042701  2           7.30\n",
              "2014050201  1           7.40\n",
              "2014050502  2           9.05\n",
              "2014050701  2           9.35\n",
              "2014051001  2           8.00\n",
              "2014051302  2           7.45\n",
              "2014051801  1           6.90\n",
              "2014052002  1           7.70\n",
              "2014052201  1           9.25\n",
              "2014052402  2           8.00\n",
              "2014052801  2           8.80\n",
              "2014053001  2          10.10\n",
              "Name: Runs_total, dtype: float64"
            ]
          },
          "metadata": {
            "tags": []
          },
          "execution_count": 40
        }
      ]
    },
    {
      "cell_type": "code",
      "metadata": {
        "id": "DXOO-vPkctbD",
        "colab": {
          "base_uri": "https://localhost:8080/",
          "height": 283
        },
        "outputId": "f104343a-243b-4a40-9522-299195236da9"
      },
      "source": [
        "run_rate_csk.plot.hist(bins = 100)"
      ],
      "execution_count": null,
      "outputs": [
        {
          "output_type": "execute_result",
          "data": {
            "text/plain": [
              "<matplotlib.axes._subplots.AxesSubplot at 0x7fe5343ed550>"
            ]
          },
          "metadata": {
            "tags": []
          },
          "execution_count": 41
        },
        {
          "output_type": "display_data",
          "data": {
            "image/png": "[encoded data removed]",
            "text/plain": [
              "<Figure size 432x288 with 1 Axes>"
            ]
          },
          "metadata": {
            "tags": [],
            "needs_background": "light"
          }
        }
      ]
    },
    {
      "cell_type": "code",
      "metadata": {
        "id": "ZOfZ_-KuctMV",
        "colab": {
          "base_uri": "https://localhost:8080/",
          "height": 283
        },
        "outputId": "652c906c-5f88-4366-bde5-159574ab97f9"
      },
      "source": [
        "total_csk.plot.hist(bins = 100)"
      ],
      "execution_count": null,
      "outputs": [
        {
          "output_type": "execute_result",
          "data": {
            "text/plain": [
              "<matplotlib.axes._subplots.AxesSubplot at 0x7fe5337a1e10>"
            ]
          },
          "metadata": {
            "tags": []
          },
          "execution_count": 42
        },
        {
          "output_type": "display_data",
          "data": {
            "image/png": "[encoded data removed]",
            "text/plain": [
              "<Figure size 432x288 with 1 Axes>"
            ]
          },
          "metadata": {
            "tags": [],
            "needs_background": "light"
          }
        }
      ]
    },
    {
      "cell_type": "markdown",
      "metadata": {
        "id": "Db22xtPec0u7"
      },
      "source": [
        "### Now for all teams of IPL 2014"
      ]
    },
    {
      "cell_type": "code",
      "metadata": {
        "id": "zUVAusLnc0Lh",
        "colab": {
          "base_uri": "https://localhost:8080/",
          "height": 782
        },
        "outputId": "bdea5446-52f1-4859-826f-43fb48869a86"
      },
      "source": [
        "new_df_1 = pd.DataFrame()\n",
        "new_df_1 = deliveries[deliveries['year'] == 2014]\n",
        "new_df_1"
      ],
      "execution_count": null,
      "outputs": [
        {
          "output_type": "execute_result",
          "data": {
            "text/html": [
              "<div>\n",
              "<style scoped>\n",
              "    .dataframe tbody tr th:only-of-type {\n",
              "        vertical-align: middle;\n",
              "    }\n",
              "\n",
              "    .dataframe tbody tr th {\n",
              "        vertical-align: top;\n",
              "    }\n",
              "\n",
              "    .dataframe thead th {\n",
              "        text-align: right;\n",
              "    }\n",
              "</style>\n",
              "<table border=\"1\" class=\"dataframe\">\n",
              "  <thead>\n",
              "    <tr style=\"text-align: right;\">\n",
              "      <th></th>\n",
              "      <th>Match_id</th>\n",
              "      <th>City</th>\n",
              "      <th>Innings</th>\n",
              "      <th>Winner</th>\n",
              "      <th>Team</th>\n",
              "      <th>Over</th>\n",
              "      <th>Delivery</th>\n",
              "      <th>Batsman</th>\n",
              "      <th>Bowler</th>\n",
              "      <th>non_striker</th>\n",
              "      <th>runs_batsman</th>\n",
              "      <th>runs_extras</th>\n",
              "      <th>extras_type</th>\n",
              "      <th>Runs_total</th>\n",
              "      <th>player_out</th>\n",
              "      <th>mode_of_dismissal</th>\n",
              "      <th>fielders_involved</th>\n",
              "      <th>file_name</th>\n",
              "      <th>match_key</th>\n",
              "      <th>year</th>\n",
              "    </tr>\n",
              "  </thead>\n",
              "  <tbody>\n",
              "    <tr>\n",
              "      <th>1591</th>\n",
              "      <td>2014041901</td>\n",
              "      <td>NaN</td>\n",
              "      <td>1</td>\n",
              "      <td>Royal Challengers Bangalore</td>\n",
              "      <td>Mumbai Indians</td>\n",
              "      <td>1</td>\n",
              "      <td>0.1</td>\n",
              "      <td>MEK Hussey</td>\n",
              "      <td>MA Starc</td>\n",
              "      <td>AP Tare</td>\n",
              "      <td>1</td>\n",
              "      <td>0</td>\n",
              "      <td>NaN</td>\n",
              "      <td>1</td>\n",
              "      <td>NaN</td>\n",
              "      <td>NaN</td>\n",
              "      <td>NaN</td>\n",
              "      <td>729287.yaml</td>\n",
              "      <td>2014041901</td>\n",
              "      <td>2014</td>\n",
              "    </tr>\n",
              "    <tr>\n",
              "      <th>1592</th>\n",
              "      <td>2014041901</td>\n",
              "      <td>NaN</td>\n",
              "      <td>1</td>\n",
              "      <td>Royal Challengers Bangalore</td>\n",
              "      <td>Mumbai Indians</td>\n",
              "      <td>1</td>\n",
              "      <td>0.2</td>\n",
              "      <td>AP Tare</td>\n",
              "      <td>MA Starc</td>\n",
              "      <td>MEK Hussey</td>\n",
              "      <td>1</td>\n",
              "      <td>0</td>\n",
              "      <td>NaN</td>\n",
              "      <td>1</td>\n",
              "      <td>NaN</td>\n",
              "      <td>NaN</td>\n",
              "      <td>NaN</td>\n",
              "      <td>729287.yaml</td>\n",
              "      <td>2014041901</td>\n",
              "      <td>2014</td>\n",
              "    </tr>\n",
              "    <tr>\n",
              "      <th>1593</th>\n",
              "      <td>2014041901</td>\n",
              "      <td>NaN</td>\n",
              "      <td>1</td>\n",
              "      <td>Royal Challengers Bangalore</td>\n",
              "      <td>Mumbai Indians</td>\n",
              "      <td>1</td>\n",
              "      <td>0.3</td>\n",
              "      <td>MEK Hussey</td>\n",
              "      <td>MA Starc</td>\n",
              "      <td>AP Tare</td>\n",
              "      <td>2</td>\n",
              "      <td>0</td>\n",
              "      <td>NaN</td>\n",
              "      <td>2</td>\n",
              "      <td>NaN</td>\n",
              "      <td>NaN</td>\n",
              "      <td>NaN</td>\n",
              "      <td>729287.yaml</td>\n",
              "      <td>2014041901</td>\n",
              "      <td>2014</td>\n",
              "    </tr>\n",
              "    <tr>\n",
              "      <th>1594</th>\n",
              "      <td>2014041901</td>\n",
              "      <td>NaN</td>\n",
              "      <td>1</td>\n",
              "      <td>Royal Challengers Bangalore</td>\n",
              "      <td>Mumbai Indians</td>\n",
              "      <td>1</td>\n",
              "      <td>0.4</td>\n",
              "      <td>MEK Hussey</td>\n",
              "      <td>MA Starc</td>\n",
              "      <td>AP Tare</td>\n",
              "      <td>0</td>\n",
              "      <td>0</td>\n",
              "      <td>NaN</td>\n",
              "      <td>0</td>\n",
              "      <td>NaN</td>\n",
              "      <td>NaN</td>\n",
              "      <td>NaN</td>\n",
              "      <td>729287.yaml</td>\n",
              "      <td>2014041901</td>\n",
              "      <td>2014</td>\n",
              "    </tr>\n",
              "    <tr>\n",
              "      <th>1595</th>\n",
              "      <td>2014041901</td>\n",
              "      <td>NaN</td>\n",
              "      <td>1</td>\n",
              "      <td>Royal Challengers Bangalore</td>\n",
              "      <td>Mumbai Indians</td>\n",
              "      <td>1</td>\n",
              "      <td>0.5</td>\n",
              "      <td>MEK Hussey</td>\n",
              "      <td>MA Starc</td>\n",
              "      <td>AP Tare</td>\n",
              "      <td>4</td>\n",
              "      <td>0</td>\n",
              "      <td>NaN</td>\n",
              "      <td>4</td>\n",
              "      <td>NaN</td>\n",
              "      <td>NaN</td>\n",
              "      <td>NaN</td>\n",
              "      <td>729287.yaml</td>\n",
              "      <td>2014041901</td>\n",
              "      <td>2014</td>\n",
              "    </tr>\n",
              "    <tr>\n",
              "      <th>...</th>\n",
              "      <td>...</td>\n",
              "      <td>...</td>\n",
              "      <td>...</td>\n",
              "      <td>...</td>\n",
              "      <td>...</td>\n",
              "      <td>...</td>\n",
              "      <td>...</td>\n",
              "      <td>...</td>\n",
              "      <td>...</td>\n",
              "      <td>...</td>\n",
              "      <td>...</td>\n",
              "      <td>...</td>\n",
              "      <td>...</td>\n",
              "      <td>...</td>\n",
              "      <td>...</td>\n",
              "      <td>...</td>\n",
              "      <td>...</td>\n",
              "      <td>...</td>\n",
              "      <td>...</td>\n",
              "      <td>...</td>\n",
              "    </tr>\n",
              "    <tr>\n",
              "      <th>149489</th>\n",
              "      <td>2014050702</td>\n",
              "      <td>Delhi</td>\n",
              "      <td>2</td>\n",
              "      <td>Kolkata Knight Riders</td>\n",
              "      <td>Kolkata Knight Riders</td>\n",
              "      <td>18</td>\n",
              "      <td>17.4</td>\n",
              "      <td>JH Kallis</td>\n",
              "      <td>WD Parnell</td>\n",
              "      <td>MK Pandey</td>\n",
              "      <td>0</td>\n",
              "      <td>0</td>\n",
              "      <td>NaN</td>\n",
              "      <td>0</td>\n",
              "      <td>NaN</td>\n",
              "      <td>NaN</td>\n",
              "      <td>NaN</td>\n",
              "      <td>733985.yaml</td>\n",
              "      <td>2014050702</td>\n",
              "      <td>2014</td>\n",
              "    </tr>\n",
              "    <tr>\n",
              "      <th>149490</th>\n",
              "      <td>2014050702</td>\n",
              "      <td>Delhi</td>\n",
              "      <td>2</td>\n",
              "      <td>Kolkata Knight Riders</td>\n",
              "      <td>Kolkata Knight Riders</td>\n",
              "      <td>18</td>\n",
              "      <td>17.5</td>\n",
              "      <td>JH Kallis</td>\n",
              "      <td>WD Parnell</td>\n",
              "      <td>MK Pandey</td>\n",
              "      <td>4</td>\n",
              "      <td>0</td>\n",
              "      <td>NaN</td>\n",
              "      <td>4</td>\n",
              "      <td>NaN</td>\n",
              "      <td>NaN</td>\n",
              "      <td>NaN</td>\n",
              "      <td>733985.yaml</td>\n",
              "      <td>2014050702</td>\n",
              "      <td>2014</td>\n",
              "    </tr>\n",
              "    <tr>\n",
              "      <th>149491</th>\n",
              "      <td>2014050702</td>\n",
              "      <td>Delhi</td>\n",
              "      <td>2</td>\n",
              "      <td>Kolkata Knight Riders</td>\n",
              "      <td>Kolkata Knight Riders</td>\n",
              "      <td>18</td>\n",
              "      <td>17.6</td>\n",
              "      <td>JH Kallis</td>\n",
              "      <td>WD Parnell</td>\n",
              "      <td>MK Pandey</td>\n",
              "      <td>1</td>\n",
              "      <td>0</td>\n",
              "      <td>NaN</td>\n",
              "      <td>1</td>\n",
              "      <td>NaN</td>\n",
              "      <td>NaN</td>\n",
              "      <td>NaN</td>\n",
              "      <td>733985.yaml</td>\n",
              "      <td>2014050702</td>\n",
              "      <td>2014</td>\n",
              "    </tr>\n",
              "    <tr>\n",
              "      <th>149492</th>\n",
              "      <td>2014050702</td>\n",
              "      <td>Delhi</td>\n",
              "      <td>2</td>\n",
              "      <td>Kolkata Knight Riders</td>\n",
              "      <td>Kolkata Knight Riders</td>\n",
              "      <td>19</td>\n",
              "      <td>18.1</td>\n",
              "      <td>JH Kallis</td>\n",
              "      <td>S Nadeem</td>\n",
              "      <td>MK Pandey</td>\n",
              "      <td>4</td>\n",
              "      <td>0</td>\n",
              "      <td>NaN</td>\n",
              "      <td>4</td>\n",
              "      <td>NaN</td>\n",
              "      <td>NaN</td>\n",
              "      <td>NaN</td>\n",
              "      <td>733985.yaml</td>\n",
              "      <td>2014050702</td>\n",
              "      <td>2014</td>\n",
              "    </tr>\n",
              "    <tr>\n",
              "      <th>149493</th>\n",
              "      <td>2014050702</td>\n",
              "      <td>Delhi</td>\n",
              "      <td>2</td>\n",
              "      <td>Kolkata Knight Riders</td>\n",
              "      <td>Kolkata Knight Riders</td>\n",
              "      <td>19</td>\n",
              "      <td>18.2</td>\n",
              "      <td>JH Kallis</td>\n",
              "      <td>S Nadeem</td>\n",
              "      <td>MK Pandey</td>\n",
              "      <td>1</td>\n",
              "      <td>0</td>\n",
              "      <td>NaN</td>\n",
              "      <td>1</td>\n",
              "      <td>NaN</td>\n",
              "      <td>NaN</td>\n",
              "      <td>NaN</td>\n",
              "      <td>733985.yaml</td>\n",
              "      <td>2014050702</td>\n",
              "      <td>2014</td>\n",
              "    </tr>\n",
              "  </tbody>\n",
              "</table>\n",
              "<p>14300 rows × 20 columns</p>\n",
              "</div>"
            ],
            "text/plain": [
              "          Match_id   City  Innings  ...    file_name   match_key  year\n",
              "1591    2014041901    NaN        1  ...  729287.yaml  2014041901  2014\n",
              "1592    2014041901    NaN        1  ...  729287.yaml  2014041901  2014\n",
              "1593    2014041901    NaN        1  ...  729287.yaml  2014041901  2014\n",
              "1594    2014041901    NaN        1  ...  729287.yaml  2014041901  2014\n",
              "1595    2014041901    NaN        1  ...  729287.yaml  2014041901  2014\n",
              "...            ...    ...      ...  ...          ...         ...   ...\n",
              "149489  2014050702  Delhi        2  ...  733985.yaml  2014050702  2014\n",
              "149490  2014050702  Delhi        2  ...  733985.yaml  2014050702  2014\n",
              "149491  2014050702  Delhi        2  ...  733985.yaml  2014050702  2014\n",
              "149492  2014050702  Delhi        2  ...  733985.yaml  2014050702  2014\n",
              "149493  2014050702  Delhi        2  ...  733985.yaml  2014050702  2014\n",
              "\n",
              "[14300 rows x 20 columns]"
            ]
          },
          "metadata": {
            "tags": []
          },
          "execution_count": 45
        }
      ]
    },
    {
      "cell_type": "code",
      "metadata": {
        "id": "6PuXgQqpc665"
      },
      "source": [
        "new_df_1 = new_df_1[new_df_1['year'].notna()]\n",
        "new_df_1['year'] = new_df_1['year'].astype(int)\n",
        "new_df_1['year'] = new_df_1.Match_id.astype(str).str[:4].astype(int)"
      ],
      "execution_count": null,
      "outputs": []
    },
    {
      "cell_type": "code",
      "metadata": {
        "id": "tX_uD024c7mN",
        "colab": {
          "base_uri": "https://localhost:8080/",
          "height": 243
        },
        "outputId": "32a317e4-b6f1-4c10-b8b4-2515b456f427"
      },
      "source": [
        "a3 = new_df_1.groupby(['match_key','Innings'])\n",
        "total_2014 = a3['Runs_total'].sum()\n",
        "total_2014"
      ],
      "execution_count": null,
      "outputs": [
        {
          "output_type": "execute_result",
          "data": {
            "text/plain": [
              "match_key   Innings\n",
              "2014041601  1          163\n",
              "            2          122\n",
              "2014041701  1          145\n",
              "            2          146\n",
              "2014041801  1          133\n",
              "                      ... \n",
              "2014052801  2          176\n",
              "2014053001  1          226\n",
              "            2          202\n",
              "2014060101  1          199\n",
              "            2          200\n",
              "Name: Runs_total, Length: 120, dtype: int64"
            ]
          },
          "metadata": {
            "tags": []
          },
          "execution_count": 47
        }
      ]
    },
    {
      "cell_type": "code",
      "metadata": {
        "id": "IlObw3XDc_KR",
        "colab": {
          "base_uri": "https://localhost:8080/",
          "height": 243
        },
        "outputId": "f0cfebbd-6362-4b7e-ae21-959f789f599b"
      },
      "source": [
        "run_rate_2014 = (total_2014/120)*6\n",
        "run_rate_2014"
      ],
      "execution_count": null,
      "outputs": [
        {
          "output_type": "execute_result",
          "data": {
            "text/plain": [
              "match_key   Innings\n",
              "2014041601  1           8.15\n",
              "            2           6.10\n",
              "2014041701  1           7.25\n",
              "            2           7.30\n",
              "2014041801  1           6.65\n",
              "                       ...  \n",
              "2014052801  2           8.80\n",
              "2014053001  1          11.30\n",
              "            2          10.10\n",
              "2014060101  1           9.95\n",
              "            2          10.00\n",
              "Name: Runs_total, Length: 120, dtype: float64"
            ]
          },
          "metadata": {
            "tags": []
          },
          "execution_count": 48
        }
      ]
    },
    {
      "cell_type": "code",
      "metadata": {
        "id": "Uu0ItDQFdBk9",
        "colab": {
          "base_uri": "https://localhost:8080/",
          "height": 283
        },
        "outputId": "dad030ae-95d2-4b54-91d2-11fc58982e9c"
      },
      "source": [
        "run_rate_2014.plot.hist(bins = 200)"
      ],
      "execution_count": null,
      "outputs": [
        {
          "output_type": "execute_result",
          "data": {
            "text/plain": [
              "<matplotlib.axes._subplots.AxesSubplot at 0x7fe533860c88>"
            ]
          },
          "metadata": {
            "tags": []
          },
          "execution_count": 49
        },
        {
          "output_type": "display_data",
          "data": {
            "image/png": "[encoded data removed]",
            "text/plain": [
              "<Figure size 432x288 with 1 Axes>"
            ]
          },
          "metadata": {
            "tags": [],
            "needs_background": "light"
          }
        }
      ]
    },
    {
      "cell_type": "code",
      "metadata": {
        "id": "TvjjHSMHdDrF",
        "colab": {
          "base_uri": "https://localhost:8080/",
          "height": 283
        },
        "outputId": "23222d56-feea-44fe-e714-487fd2349e9a"
      },
      "source": [
        "total_2014.plot.hist(bins = 200)"
      ],
      "execution_count": null,
      "outputs": [
        {
          "output_type": "execute_result",
          "data": {
            "text/plain": [
              "<matplotlib.axes._subplots.AxesSubplot at 0x7fe5334ed470>"
            ]
          },
          "metadata": {
            "tags": []
          },
          "execution_count": 50
        },
        {
          "output_type": "display_data",
          "data": {
            "image/png": "[encoded data removed]",
            "text/plain": [
              "<Figure size 432x288 with 1 Axes>"
            ]
          },
          "metadata": {
            "tags": [],
            "needs_background": "light"
          }
        }
      ]
    },
    {
      "cell_type": "markdown",
      "metadata": {
        "id": "pCXVFnlFkuBT"
      },
      "source": [
        "We thus find that the median Run Rate is around 8.0 and the median score is near 165. <br>\r\n",
        "We can confidently say that CSK follows the trend and can be thus considered a competitive team\r\n",
        "\r\n",
        "---------------------------"
      ]
    },
    {
      "cell_type": "markdown",
      "metadata": {
        "id": "TBLwlAB76W5K"
      },
      "source": [
        "* Let usCalculate a metric **%fast_innings**. This would be percentage of innings where run_rate is more than base_line run rate of **6.0 per over**\n",
        "    * Listing the teams that are the top 3 teams by **%fast_innings**?\n",
        "    \n",
        "* Let's now think of how **fast** or **slow** the run was made.\n",
        "  * We will create a metric which would be an indicator of speed. Let's create a metric called **dist_base_line** which means **innings_run_rate - 6.0**.\n",
        "  * A **negative** value would mean slow run_rate and **positive** would mean fast. The value would mean the **intensity**. (We can say a value of 3.6-6 = -2.4 means a very slow run rate. Which a value of 10.2-6 = 3.6 as a very fast run rate)\n",
        "  * For a team, we will also visualize the distribution of negative values and do the same for positive ones. \n",
        "  * Alos let us create a **scatter-plot** with **runs_made** on x-axis and **run_rate** on y-axis. \n",
        "---------------------------"
      ]
    },
    {
      "cell_type": "code",
      "metadata": {
        "id": "IyEXZhPKeqQN",
        "colab": {
          "base_uri": "https://localhost:8080/",
          "height": 260
        },
        "outputId": "aa4f8ee1-8f66-4d87-8db6-125ddaeff886"
      },
      "source": [
        "# write your code here. Feel free to add multiple cells as per your need\n",
        "a5 = deliveries.groupby(['Match_id','Team'])\n",
        "total = a5['Runs_total'].sum()\n",
        "run_rate = (total/120)*6\n",
        "percent_fast = run_rate - 6\n",
        "percent_fast['team'] = deliveries['Team']\n",
        "percent_fast = pd.DataFrame(percent_fast)\n",
        "percent_fast.reset_index()\n",
        "percent_fast['Runs_total']\n",
        "#percent_fast.dtypes\n",
        "#percent_fast.sort_values('Runs_total', ascending= False)"
      ],
      "execution_count": null,
      "outputs": [
        {
          "output_type": "execute_result",
          "data": {
            "text/plain": [
              "Match_id    Team                       \n",
              "2008041801  Kolkata Knight Riders                                                        5.1\n",
              "            Royal Challengers Bangalore                                                 -1.9\n",
              "2008041901  Chennai Super Kings                                                            6\n",
              "            Kings XI Punjab                                                             4.35\n",
              "2008041902  Delhi Daredevils                                                             0.6\n",
              "                                                                 ...                        \n",
              "2017051901  Kolkata Knight Riders                                                      -0.65\n",
              "            Mumbai Indians                                                             -0.45\n",
              "2017052101  Mumbai Indians                                                              0.45\n",
              "            Rising Pune Supergiant                                                       0.4\n",
              "team                                       0         Sunrisers Hyderabad\n",
              "1         Sunris...\n",
              "Name: Runs_total, Length: 1271, dtype: object"
            ]
          },
          "metadata": {
            "tags": []
          },
          "execution_count": 22
        }
      ]
    },
    {
      "cell_type": "code",
      "metadata": {
        "id": "rhcVctwLZ5Xa",
        "colab": {
          "base_uri": "https://localhost:8080/",
          "height": 283
        },
        "outputId": "b38e295b-b95e-4bf3-ceef-7433cf5e3ae1"
      },
      "source": [
        "plt.scatter(total,run_rate)"
      ],
      "execution_count": null,
      "outputs": [
        {
          "output_type": "execute_result",
          "data": {
            "text/plain": [
              "<matplotlib.collections.PathCollection at 0x7fd8870dacf8>"
            ]
          },
          "metadata": {
            "tags": []
          },
          "execution_count": 9
        },
        {
          "output_type": "display_data",
          "data": {
            "image/png": "[encoded data removed]",
            "text/plain": [
              "<Figure size 432x288 with 1 Axes>"
            ]
          },
          "metadata": {
            "tags": [],
            "needs_background": "light"
          }
        }
      ]
    },
    {
      "cell_type": "markdown",
      "metadata": {
        "id": "aCNAjJoAaHhE"
      },
      "source": [
        "Thus, we can say that higher run rate corresponds to a higher total"
      ]
    },
    {
      "cell_type": "markdown",
      "metadata": {
        "id": "ZoWklGAYU0Xk"
      },
      "source": [
        "### **Question 13**\n",
        "* Let's analyze whether higher run_rate lead to victory?\n",
        "* Create a visualization to analyze run_rates of teams in matches which it won against the ones it lost. \n",
        "  * We will find if there is a team which is really winning based on a higher run_rate maintained by them\n",
        "  * Also we will look at the **statistical test of significance** which can help us evaluate the hypothesis mentioned before.\n",
        "    \n",
        "\n",
        "------------------"
      ]
    },
    {
      "cell_type": "code",
      "metadata": {
        "id": "0IshwnsuWfnL",
        "colab": {
          "base_uri": "https://localhost:8080/",
          "height": 863
        },
        "outputId": "5b0d1a3d-4654-4871-eb6a-04f379ac1f8e"
      },
      "source": [
        "# write your code here. Feel free to add multiple cells as per your need\n",
        "#deliveries = pd.read_csv('/content/drive/My Drive/data/ipl_deliveries.csv')\n",
        "import seaborn as sns\n",
        "runs_balls = 6*deliveries[['Winner','Team','Runs_total','City','Match_id','Innings']].groupby(['Winner','Team','City','Match_id','Innings']).sum()/deliveries[['Winner','Team','Runs_total','City','Match_id','Innings']].groupby(['Winner','Team','City','Match_id','Innings']).count()\n",
        "histogram_runrate = runs_balls.reset_index()[['Winner','Runs_total','Team','Match_id']]\n",
        "#histogram_runrate['Runs_total'] = histogram_runrate['run_rate']\n",
        "rr_team = histogram_runrate.reset_index()\n",
        "rr_team['Team'] = ['Rising Pune Supergiant' if x == 'Rising Pune Supergiants' else x for x in rr_team['Team']]\n",
        "rr_team['Winner'] = ['Rising Pune Supergiant' if x == 'Rising Pune Supergiants' else x for x in rr_team['Winner']]\n",
        "rr_team['dist_base_line'] = rr_team['Runs_total'] - 6.0\n",
        "\n",
        "rr_winners = rr_team[rr_team['Winner'] == rr_team['Team']]\n",
        "rr_losers = rr_team[rr_team['Winner'] != rr_team['Team']]\n",
        "\n",
        "plt.figure(figsize=(30, 10))\n",
        "sns.boxplot(x = rr_team['Team'], y =rr_team['Runs_total'], hue = rr_team['Winner'] == rr_team['Team'])\n",
        "\n",
        "team_list = list(rr_team['Team'].value_counts().index)\n",
        "\n",
        "from scipy.stats import pointbiserialr\n",
        "\n",
        "pbc_array = []\n",
        "\n",
        "for i in team_list:\n",
        "  rr_some_team = rr_team[rr_team['Team'] == i]   \n",
        "  run_rate = rr_some_team['Runs_total']\n",
        "  wins = (rr_some_team['Winner'] == rr_some_team['Team'])\n",
        "\n",
        "  pbc = pointbiserialr(run_rate, wins)\n",
        "  pbc_array.append([pbc,i])\n",
        "\n",
        "pbc_array"
      ],
      "execution_count": null,
      "outputs": [
        {
          "output_type": "execute_result",
          "data": {
            "text/plain": [
              "[[PointbiserialrResult(correlation=0.4173836059744675, pvalue=7.986091515558e-08),\n",
              "  'Mumbai Indians'],\n",
              " [PointbiserialrResult(correlation=0.4102001431025227, pvalue=2.471149219464152e-07),\n",
              "  'Royal Challengers Bangalore'],\n",
              " [PointbiserialrResult(correlation=0.29543984845110904, pvalue=0.0002942783241613565),\n",
              "  'Kolkata Knight Riders'],\n",
              " [PointbiserialrResult(correlation=0.3951449152962164, pvalue=7.978363481874576e-07),\n",
              "  'Kings XI Punjab'],\n",
              " [PointbiserialrResult(correlation=0.4946349494133604, pvalue=3.932385164981009e-10),\n",
              "  'Delhi Daredevils'],\n",
              " [PointbiserialrResult(correlation=0.3798106974455861, pvalue=9.789388788107247e-06),\n",
              "  'Chennai Super Kings'],\n",
              " [PointbiserialrResult(correlation=0.349613125307158, pvalue=0.0001042256516409135),\n",
              "  'Rajasthan Royals'],\n",
              " [PointbiserialrResult(correlation=0.28163708671080057, pvalue=0.014371037691308434),\n",
              "  'Deccan Chargers'],\n",
              " [PointbiserialrResult(correlation=0.2443130214436971, pvalue=0.038617663275303415),\n",
              "  'Sunrisers Hyderabad'],\n",
              " [PointbiserialrResult(correlation=0.3915973130682477, pvalue=0.007810354052534806),\n",
              "  'Pune Warriors'],\n",
              " [PointbiserialrResult(correlation=0.5215054499685091, pvalue=0.0026244049961540823),\n",
              "  'Gujarat Lions'],\n",
              " [PointbiserialrResult(correlation=0.08607957878202258, pvalue=0.6510639842203952),\n",
              "  'Rising Pune Supergiant'],\n",
              " [PointbiserialrResult(correlation=0.6025455047715735, pvalue=0.022577305786293866),\n",
              "  'Kochi Tuskers Kerala']]"
            ]
          },
          "metadata": {
            "tags": []
          },
          "execution_count": 30
        },
        {
          "output_type": "display_data",
          "data": {
            "image/png": "[encoded data removed]",
            "text/plain": [
              "<Figure size 2160x720 with 1 Axes>"
            ]
          },
          "metadata": {
            "tags": [],
            "needs_background": "light"
          }
        }
      ]
    },
    {
      "cell_type": "markdown",
      "metadata": {
        "id": "8hGgVsakYgU5"
      },
      "source": [
        "### **VK**\n",
        "* **Virat Kohli** is known to be a **master chaser**. Is it so? Let's validate through raw data\n",
        "* First we will visualize the runs made by Virat Kohli in matches where his team played the **1st innings** \n",
        "* Also let us visualize the runs made by Virat Kohli in matches where his team played the **2nd innings**. \n",
        "* There is a lot of overlap in both of the histograms as seen below\n",
        "* I have also plotted the two histograms for the matches which his team won and two histograms for the matches which his team lost\n",
        "\n",
        "* Let;s find whether Kohli has been a great chaser **only** in matches won?\n",
        "* Calculating Kohli's **run contribution(%)** for all matches played by him\n",
        "  * Drawing a violin plot of his **run_contribution(%)** for two categories : \n",
        "    * Matches **won** by his team\n",
        "    * Matches **lost** by his team\n",
        "  "
      ]
    },
    {
      "cell_type": "code",
      "metadata": {
        "id": "P8gOGsTgrhFN"
      },
      "source": [
        "# write your code here. Feel free to add multiple cells as per your need\n",
        "first = deliveries[deliveries['Batsman'] == 'V Kohli']\n",
        "first_Innings = first[first['Innings'] == 1]\n",
        "FI = first_Innings.groupby(['match_key'])['Runs_total'].sum()\n",
        "second = deliveries[deliveries['Batsman'] == 'V Kohli']\n",
        "second_Innings = second[second['Innings'] == 2]\n",
        "SI = second_Innings.groupby(['match_key'])['Runs_total'].sum()"
      ],
      "execution_count": null,
      "outputs": []
    },
    {
      "cell_type": "code",
      "metadata": {
        "id": "eOrLSuq4DIlG",
        "colab": {
          "base_uri": "https://localhost:8080/",
          "height": 265
        },
        "outputId": "79715fbb-7916-4303-af11-40fe02690473"
      },
      "source": [
        "x = FI.plot.hist()"
      ],
      "execution_count": null,
      "outputs": [
        {
          "output_type": "display_data",
          "data": {
            "image/png": "[encoded data removed]",
            "text/plain": [
              "<Figure size 432x288 with 1 Axes>"
            ]
          },
          "metadata": {
            "tags": [],
            "needs_background": "light"
          }
        }
      ]
    },
    {
      "cell_type": "code",
      "metadata": {
        "id": "RUWRmI3MDL9t",
        "colab": {
          "base_uri": "https://localhost:8080/",
          "height": 265
        },
        "outputId": "17de2e8b-7bd3-491e-fcf0-9dbdfbb9506d"
      },
      "source": [
        "y = SI.plot.hist()"
      ],
      "execution_count": null,
      "outputs": [
        {
          "output_type": "display_data",
          "data": {
            "image/png": "[encoded data removed]",
            "text/plain": [
              "<Figure size 432x288 with 1 Axes>"
            ]
          },
          "metadata": {
            "tags": [],
            "needs_background": "light"
          }
        }
      ]
    },
    {
      "cell_type": "code",
      "metadata": {
        "id": "BMedRzMHFczc"
      },
      "source": [
        "first_Innings_winner = first_Innings[first_Innings['Winner'] == 'Royal Challengers Bangalore']\n",
        "FIW = first_Innings_winner.groupby(['match_key'])['Runs_total'].sum()"
      ],
      "execution_count": null,
      "outputs": []
    },
    {
      "cell_type": "code",
      "metadata": {
        "id": "8bafQcymFgTS"
      },
      "source": [
        "second_Innings_winner = second_Innings[second_Innings['Winner'] == 'Royal Challengers Bangalore']\n",
        "SIW = second_Innings.groupby(['match_key'])['Runs_total'].sum()"
      ],
      "execution_count": null,
      "outputs": []
    },
    {
      "cell_type": "code",
      "metadata": {
        "id": "gmeTTecOFgFn"
      },
      "source": [
        "first_Innings_loser = first_Innings[first_Innings['Winner'] != 'Royal Challengers Bangalore']\n",
        "FIL = first_Innings_loser.groupby(['match_key'])['Runs_total'].sum()"
      ],
      "execution_count": null,
      "outputs": []
    },
    {
      "cell_type": "code",
      "metadata": {
        "id": "moaCegNwFf2x"
      },
      "source": [
        "second_Innings_loser = second_Innings[second_Innings['Winner'] != 'Royal Challengers Bangalore']\n",
        "SIL = second_Innings.groupby(['match_key'])['Runs_total'].sum()"
      ],
      "execution_count": null,
      "outputs": []
    },
    {
      "cell_type": "code",
      "metadata": {
        "id": "JXP6i0nIFv52",
        "colab": {
          "base_uri": "https://localhost:8080/",
          "height": 283
        },
        "outputId": "92d830da-6481-484f-9204-509bd6d9e851"
      },
      "source": [
        "FIW.plot.hist()"
      ],
      "execution_count": null,
      "outputs": [
        {
          "output_type": "execute_result",
          "data": {
            "text/plain": [
              "<matplotlib.axes._subplots.AxesSubplot at 0x7fe532f4fb70>"
            ]
          },
          "metadata": {
            "tags": []
          },
          "execution_count": 71
        },
        {
          "output_type": "display_data",
          "data": {
            "image/png": "[encoded data removed]",
            "text/plain": [
              "<Figure size 432x288 with 1 Axes>"
            ]
          },
          "metadata": {
            "tags": [],
            "needs_background": "light"
          }
        }
      ]
    },
    {
      "cell_type": "code",
      "metadata": {
        "id": "GgjzANeNFxIR",
        "colab": {
          "base_uri": "https://localhost:8080/",
          "height": 283
        },
        "outputId": "e224e691-2b1a-4ed6-c311-bfbe4c877f5b"
      },
      "source": [
        "SIW.plot.hist()"
      ],
      "execution_count": null,
      "outputs": [
        {
          "output_type": "execute_result",
          "data": {
            "text/plain": [
              "<matplotlib.axes._subplots.AxesSubplot at 0x7fe532db1400>"
            ]
          },
          "metadata": {
            "tags": []
          },
          "execution_count": 72
        },
        {
          "output_type": "display_data",
          "data": {
            "image/png": "[encoded data removed]",
            "text/plain": [
              "<Figure size 432x288 with 1 Axes>"
            ]
          },
          "metadata": {
            "tags": [],
            "needs_background": "light"
          }
        }
      ]
    },
    {
      "cell_type": "code",
      "metadata": {
        "id": "b94eAUHPFw3a",
        "colab": {
          "base_uri": "https://localhost:8080/",
          "height": 283
        },
        "outputId": "e9b6133d-0edb-4918-ba91-15e7c08d9df4"
      },
      "source": [
        "FIL.plot.hist()"
      ],
      "execution_count": null,
      "outputs": [
        {
          "output_type": "execute_result",
          "data": {
            "text/plain": [
              "<matplotlib.axes._subplots.AxesSubplot at 0x7fe532cf8160>"
            ]
          },
          "metadata": {
            "tags": []
          },
          "execution_count": 73
        },
        {
          "output_type": "display_data",
          "data": {
            "image/png": "[encoded data removed]",
            "text/plain": [
              "<Figure size 432x288 with 1 Axes>"
            ]
          },
          "metadata": {
            "tags": [],
            "needs_background": "light"
          }
        }
      ]
    },
    {
      "cell_type": "code",
      "metadata": {
        "id": "9OA7KtiDFwn3",
        "colab": {
          "base_uri": "https://localhost:8080/",
          "height": 283
        },
        "outputId": "9dec32b3-8110-4f34-ca8d-fb88c1c24d05"
      },
      "source": [
        "SIL.plot.hist()"
      ],
      "execution_count": null,
      "outputs": [
        {
          "output_type": "execute_result",
          "data": {
            "text/plain": [
              "<matplotlib.axes._subplots.AxesSubplot at 0x7fe532cbf080>"
            ]
          },
          "metadata": {
            "tags": []
          },
          "execution_count": 74
        },
        {
          "output_type": "display_data",
          "data": {
            "image/png": "[encoded data removed]",
            "text/plain": [
              "<Figure size 432x288 with 1 Axes>"
            ]
          },
          "metadata": {
            "tags": [],
            "needs_background": "light"
          }
        }
      ]
    },
    {
      "cell_type": "markdown",
      "metadata": {
        "id": "RiINYjR4GK3Z"
      },
      "source": [
        "As seen from the above histograms, Virat Kohli performs equally well in chasing despite of the outcome of the team winning or losing."
      ]
    },
    {
      "cell_type": "markdown",
      "metadata": {
        "id": "RZyqUAwrIfnJ"
      },
      "source": [
        "### Calculating % contribution"
      ]
    },
    {
      "cell_type": "code",
      "metadata": {
        "id": "jeOk2DtHIj6_",
        "colab": {
          "base_uri": "https://localhost:8080/",
          "height": 225
        },
        "outputId": "8ba352d0-0c7d-4a1f-9e81-66b6800f9a24"
      },
      "source": [
        "RCB = deliveries[deliveries['Team'] == 'Royal Challengers Bangalore']\n",
        "Team_total = RCB.groupby(['match_key'])['Runs_total'].sum()\n",
        "Virat = deliveries[deliveries['Batsman'] == 'V Kohli']\n",
        "Virat_score = Virat.groupby(['match_key'])['Runs_total'].sum()\n",
        "percent_contribution = (Virat_score/Team_total)*100\n",
        "(percent_contribution.sort_values(ascending=False)).head(10)"
      ],
      "execution_count": null,
      "outputs": [
        {
          "output_type": "execute_result",
          "data": {
            "text/plain": [
              "match_key\n",
              "2013040901    59.876543\n",
              "2017042902    57.291667\n",
              "2016042402    56.111111\n",
              "2016050702    55.897436\n",
              "2013051001    55.191257\n",
              "2016051801    54.976303\n",
              "2013051801    53.773585\n",
              "2015051501    53.012048\n",
              "2011041401    52.112676\n",
              "2015051701    50.000000\n",
              "Name: Runs_total, dtype: float64"
            ]
          },
          "metadata": {
            "tags": []
          },
          "execution_count": 15
        }
      ]
    },
    {
      "cell_type": "code",
      "metadata": {
        "id": "Oi_kTf3TMi2e"
      },
      "source": [
        "RCB_wins = RCB[RCB['Winner'] == 'Royal Challengers Bangalore']\n",
        "winteam_total = RCB_wins.groupby(['match_key'])['Runs_total'].sum()\n",
        "Virat_wins = RCB_wins[RCB_wins['Batsman'] == 'V Kohli']\n",
        "Viratwin_score = Virat_wins.groupby(['match_key'])['Runs_total'].sum()\n",
        "RCB_losses = RCB[RCB['Winner'] != 'Royal Challengers Bangalore']\n",
        "lossteam_total = RCB_losses.groupby(['match_key'])['Runs_total'].sum()\n",
        "Virat_loses = RCB_losses[RCB_losses['Batsman'] == 'V Kohli']\n",
        "Viratloss_score = Virat_loses.groupby(['match_key'])['Runs_total'].sum()"
      ],
      "execution_count": null,
      "outputs": []
    },
    {
      "cell_type": "code",
      "metadata": {
        "id": "AxJuxSD3OUQS"
      },
      "source": [
        "win_run_contribution = (Viratwin_score/winteam_total)*100\n",
        "loss_run_contribution = (Viratloss_score/lossteam_total)*100"
      ],
      "execution_count": null,
      "outputs": []
    },
    {
      "cell_type": "code",
      "metadata": {
        "id": "xIQKtj5lOPIl",
        "colab": {
          "base_uri": "https://localhost:8080/",
          "height": 352
        },
        "outputId": "4bf003d2-bacd-4378-888c-bc16180f5b09"
      },
      "source": [
        "import pandas.util.testing as tm\n",
        "import seaborn as sns\n",
        "sns.violinplot(win_run_contribution)"
      ],
      "execution_count": null,
      "outputs": [
        {
          "output_type": "stream",
          "text": [
            "/usr/local/lib/python3.6/dist-packages/ipykernel_launcher.py:1: FutureWarning: pandas.util.testing is deprecated. Use the functions in the public API at pandas.testing instead.\n",
            "  \"\"\"Entry point for launching an IPython kernel.\n"
          ],
          "name": "stderr"
        },
        {
          "output_type": "execute_result",
          "data": {
            "text/plain": [
              "<matplotlib.axes._subplots.AxesSubplot at 0x7fe52847d908>"
            ]
          },
          "metadata": {
            "tags": []
          },
          "execution_count": 79
        },
        {
          "output_type": "display_data",
          "data": {
            "image/png": "[encoded data removed]",
            "text/plain": [
              "<Figure size 432x288 with 1 Axes>"
            ]
          },
          "metadata": {
            "tags": [],
            "needs_background": "light"
          }
        }
      ]
    },
    {
      "cell_type": "code",
      "metadata": {
        "id": "I6LmlXWWOSB9",
        "colab": {
          "base_uri": "https://localhost:8080/",
          "height": 297
        },
        "outputId": "396b2f4c-8c5c-4b20-9eb7-110f0e5f5dbc"
      },
      "source": [
        "sns.violinplot(loss_run_contribution)"
      ],
      "execution_count": null,
      "outputs": [
        {
          "output_type": "execute_result",
          "data": {
            "text/plain": [
              "<matplotlib.axes._subplots.AxesSubplot at 0x7fe5281ab4e0>"
            ]
          },
          "metadata": {
            "tags": []
          },
          "execution_count": 80
        },
        {
          "output_type": "display_data",
          "data": {
            "image/png": "[encoded data removed]",
            "text/plain": [
              "<Figure size 432x288 with 1 Axes>"
            ]
          },
          "metadata": {
            "tags": [],
            "needs_background": "light"
          }
        }
      ]
    },
    {
      "cell_type": "code",
      "metadata": {
        "id": "4qFVaBCFjlZI",
        "colab": {
          "base_uri": "https://localhost:8080/",
          "height": 451
        },
        "outputId": "669eeb24-107a-49b1-87c0-85e43847b78b"
      },
      "source": [
        "RCB = deliveries[deliveries['Team'] == 'Royal Challengers Bangalore']\n",
        "RCB_wins = RCB[RCB['Winner'] == 'Royal Challengers Bangalore']\n",
        "Virat_wins = RCB_wins[RCB_wins['Batsman'] == 'V Kohli']\n",
        "Virat_wins['Strike_Rate'] = batting['SR']\n",
        "Virat_loses['Strike_Rate'] = batting['SR']\n",
        "abc = Virat_wins.groupby(['match_key'])['Strike_Rate'].nunique()\n",
        "abc.sort_values(ascending  = False)"
      ],
      "execution_count": null,
      "outputs": [
        {
          "output_type": "stream",
          "text": [
            "/usr/local/lib/python3.6/dist-packages/ipykernel_launcher.py:4: SettingWithCopyWarning: \n",
            "A value is trying to be set on a copy of a slice from a DataFrame.\n",
            "Try using .loc[row_indexer,col_indexer] = value instead\n",
            "\n",
            "See the caveats in the documentation: https://pandas.pydata.org/pandas-docs/stable/user_guide/indexing.html#returning-a-view-versus-a-copy\n",
            "  after removing the cwd from sys.path.\n",
            "/usr/local/lib/python3.6/dist-packages/ipykernel_launcher.py:5: SettingWithCopyWarning: \n",
            "A value is trying to be set on a copy of a slice from a DataFrame.\n",
            "Try using .loc[row_indexer,col_indexer] = value instead\n",
            "\n",
            "See the caveats in the documentation: https://pandas.pydata.org/pandas-docs/stable/user_guide/indexing.html#returning-a-view-versus-a-copy\n",
            "  \"\"\"\n"
          ],
          "name": "stderr"
        },
        {
          "output_type": "execute_result",
          "data": {
            "text/plain": [
              "match_key\n",
              "2014041701    31\n",
              "2014051801    26\n",
              "2014041901     2\n",
              "2017051402     0\n",
              "2011051101     0\n",
              "              ..\n",
              "2013041601     0\n",
              "2013041102     0\n",
              "2013040901     0\n",
              "2013040401     0\n",
              "2008042002     0\n",
              "Name: Strike_Rate, Length: 66, dtype: int64"
            ]
          },
          "metadata": {
            "tags": []
          },
          "execution_count": 18
        }
      ]
    },
    {
      "cell_type": "code",
      "metadata": {
        "id": "XliRCC75mKDi",
        "colab": {
          "base_uri": "https://localhost:8080/",
          "height": 243
        },
        "outputId": "52446762-35ce-488c-fc3c-c65b20a8b680"
      },
      "source": [
        "acb = Virat_loses.groupby(['match_key'])['Strike_Rate'].nunique()\n",
        "acb.sort_values(ascending  = False)"
      ],
      "execution_count": null,
      "outputs": [
        {
          "output_type": "execute_result",
          "data": {
            "text/plain": [
              "match_key\n",
              "2015050401    38\n",
              "2013042901    23\n",
              "2010032502    21\n",
              "2014042401    20\n",
              "2016043001    16\n",
              "              ..\n",
              "2013051202     0\n",
              "2013050601     0\n",
              "2013042701     0\n",
              "2017050501     0\n",
              "2008041801     0\n",
              "Name: Strike_Rate, Length: 75, dtype: int64"
            ]
          },
          "metadata": {
            "tags": []
          },
          "execution_count": 19
        }
      ]
    },
    {
      "cell_type": "markdown",
      "metadata": {
        "id": "jwqekFVTnFWt"
      },
      "source": [
        "Thus, we can say that VK has been a great chaser and if he is there till the end of the match, the team he his playing for, will win the match"
      ]
    }
  ]
}